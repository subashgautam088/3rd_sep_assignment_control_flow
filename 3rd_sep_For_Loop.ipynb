{
 "cells": [
  {
   "cell_type": "markdown",
   "id": "30118d4b-e01f-4a8b-8a66-43b3f5b50f5e",
   "metadata": {},
   "source": [
    "BASIC IF-ELSE STATEMENTS"
   ]
  },
  {
   "cell_type": "code",
   "execution_count": 1,
   "id": "f06ced0e-0161-47bf-865e-503595e5aaea",
   "metadata": {},
   "outputs": [
    {
     "name": "stdin",
     "output_type": "stream",
     "text": [
      "Enter number  54\n"
     ]
    },
    {
     "name": "stdout",
     "output_type": "stream",
     "text": [
      "Positive number\n"
     ]
    }
   ],
   "source": [
    "##  1\n",
    "# Program to check positive neegative number\n",
    "numb_1=int(input(\"Enter number \" ))\n",
    "if numb_1 >= 0:\n",
    "    print(\"Positive number\")\n",
    "else:\n",
    "  \tprint(\"Negative number\")"
   ]
  },
  {
   "cell_type": "code",
   "execution_count": 2,
   "id": "428447fa-7310-441e-8a53-44705e5ed642",
   "metadata": {},
   "outputs": [
    {
     "name": "stdin",
     "output_type": "stream",
     "text": [
      "Enter your age to check eligibility to vote  23\n"
     ]
    },
    {
     "name": "stdout",
     "output_type": "stream",
     "text": [
      "yes you are eligible to vote\n"
     ]
    }
   ],
   "source": [
    "##  2\n",
    "# Program to check elibility to vote\n",
    "age=int(input(\"Enter your age to check eligibility to vote \" ))\n",
    "x=\"yes you are eligible to vote\" if age >=18 else \"No you are not eligible to vote\"\n",
    "print(x)"
   ]
  },
  {
   "cell_type": "code",
   "execution_count": 3,
   "id": "877ffd93-5cc9-41cd-bd9e-eccb5ed7d7b2",
   "metadata": {},
   "outputs": [
    {
     "name": "stdout",
     "output_type": "stream",
     "text": [
      "The maximum number is : 488\n"
     ]
    }
   ],
   "source": [
    "##  3\n",
    "# Checking maximum number between two number\n",
    "numb_2=488\n",
    "numb_3=44\n",
    "x=print(\"The maximum number is :\",numb_2) if numb_2 > numb_3 else print(\"The maximum number is :\",numb_3)"
   ]
  },
  {
   "cell_type": "code",
   "execution_count": 4,
   "id": "599d85b0-4659-4ea3-8b78-207d08cfa9a1",
   "metadata": {},
   "outputs": [
    {
     "name": "stdin",
     "output_type": "stream",
     "text": [
      "Enter year : 2023\n"
     ]
    },
    {
     "name": "stdout",
     "output_type": "stream",
     "text": [
      "2023 is not a leap year.\n"
     ]
    }
   ],
   "source": [
    "##  4\n",
    "year=int(input(\"Enter year :\"))\n",
    "def is_leap_year(year):\n",
    "    if (year % 4 == 0 and year % 100 != 0) or (year % 400 == 0):\n",
    "        return True\n",
    "    else:\n",
    "        return False\n",
    "\n",
    "# If is_leap_year is True  then it is a leap year \n",
    "if is_leap_year(year):\n",
    "    print(f\"{year} is a leap year.\")\n",
    "else:\n",
    "    print(f\"{year} is not a leap year.\")"
   ]
  },
  {
   "cell_type": "code",
   "execution_count": 9,
   "id": "886a6452-478e-4ee7-b08e-0dd1381bc157",
   "metadata": {},
   "outputs": [
    {
     "name": "stdin",
     "output_type": "stream",
     "text": [
      "Enter a character to check a vowel or consonant  s\n"
     ]
    },
    {
     "name": "stdout",
     "output_type": "stream",
     "text": [
      "It is consonant\n"
     ]
    }
   ],
   "source": [
    "##  5\n",
    "character_1=input(\"Enter a character to check a vowel or consonant \")\n",
    "vowel=\"aeiouAEIOU\"\n",
    "if character_1.isalpha():\n",
    "  if character_1 in vowel:\n",
    "    print(\"It is vowel\")\n",
    "  else:\n",
    "    print(\"It is consonant\")\n",
    "else:\n",
    "    print(\"Invalid input\")"
   ]
  },
  {
   "cell_type": "code",
   "execution_count": 10,
   "id": "3ff81b82-1b87-49ef-9ac5-9671b70526d8",
   "metadata": {},
   "outputs": [
    {
     "name": "stdout",
     "output_type": "stream",
     "text": [
      "Even number\n"
     ]
    }
   ],
   "source": [
    "##  6\n",
    "numb_4=44\n",
    "if numb_4%2==0:\n",
    "  \tprint(\"Even number\")\n",
    "else:\n",
    "  \tprint(\"Odd number\")"
   ]
  },
  {
   "cell_type": "code",
   "execution_count": 11,
   "id": "879d5122-3006-4b94-b113-cfd7791b6806",
   "metadata": {},
   "outputs": [
    {
     "name": "stdout",
     "output_type": "stream",
     "text": [
      "The absolute value of -44.0 is 44.0.\n"
     ]
    }
   ],
   "source": [
    "##  7\n",
    "# Printing the absolute value of number .\n",
    "numb_5 = -44\n",
    "def absolute_value(number):\n",
    "    if number < 0:\n",
    "        return -number\n",
    "    else:\n",
    "        return number\n",
    "\n",
    "result = absolute_value(numb_5)\n",
    "print(f\"The absolute value of {float(numb_5)} is {float(result)}.\")"
   ]
  },
  {
   "cell_type": "code",
   "execution_count": 12,
   "id": "3c0b78c0-5ba5-4783-b61a-8511d7029ba8",
   "metadata": {},
   "outputs": [
    {
     "name": "stdout",
     "output_type": "stream",
     "text": [
      "2514  is the largest number\n"
     ]
    }
   ],
   "source": [
    "##  8\n",
    "a,b,c = 444,333,2514\n",
    "if a>b and a>c: # Check \"a\" is greater than \"b\" and \"c\" \n",
    "  print(a,\" is largest number\")\n",
    "elif b>c and b>a: # Check \"b\" is greater than \"a\" and \"c\"\n",
    "  print(b,\" is the largest number\")\n",
    "else: # Otherwise print \"c\" is the largest number if above both the condition is false\n",
    "  print(c,\" is the largest number\")"
   ]
  },
  {
   "cell_type": "code",
   "execution_count": 13,
   "id": "5e5cd903-2ee0-4ea1-a2ab-62b6ae107aad",
   "metadata": {},
   "outputs": [
    {
     "name": "stdout",
     "output_type": "stream",
     "text": [
      "The string is palindrome\n"
     ]
    }
   ],
   "source": [
    "##  9\n",
    "# Check string is palindrome or not\n",
    "string_2=\"pwskills sllikswp\"\n",
    "if string_2[:] == string_2[::-1]: #check the string is equal to reverse  of the string\n",
    "  print(\"The string is palindrome\")\n",
    "else:\n",
    "  print(\"The string is not palindrome\")"
   ]
  },
  {
   "cell_type": "code",
   "execution_count": 15,
   "id": "de650b41-7eb4-4d87-ad4f-7577a77e196f",
   "metadata": {},
   "outputs": [
    {
     "name": "stdout",
     "output_type": "stream",
     "text": [
      "The marks73.99% got grade C\n"
     ]
    }
   ],
   "source": [
    "##  10\n",
    "score = 73.99\n",
    "if 100<=score >=90:\n",
    "  \tresult=\"A\"\n",
    "elif score >=80:\n",
    "  \tresult=\"B\"\n",
    "elif score >=70:\n",
    "  \tresult=\"C\"\n",
    "elif score >=60:\n",
    "  \tresult=\"D\"\n",
    "elif score >=50:\n",
    "  \tresult=\"E\"\n",
    "else:\n",
    "  \tresult=\"Fail\"\n",
    "print(f\"The marks{score}% got grade {result}\")"
   ]
  },
  {
   "cell_type": "markdown",
   "id": "3aac42bc-31b7-4a9b-b7e4-03f21f6630f3",
   "metadata": {},
   "source": [
    "Nested if-else Statement"
   ]
  },
  {
   "cell_type": "code",
   "execution_count": 16,
   "id": "1565649b-7028-4e97-b118-97256104609c",
   "metadata": {},
   "outputs": [
    {
     "name": "stdout",
     "output_type": "stream",
     "text": [
      "4444  is the largest number\n"
     ]
    }
   ],
   "source": [
    "##  11\n",
    "\n",
    "\n",
    "# Checking which number is greater among three number\n",
    "numb_6=4444\n",
    "numb_7=4400\n",
    "numb_8=544\n",
    "\n",
    "if numb_6>numb_7:\n",
    "  if numb_6>numb_8:\n",
    "    print(numb_6, \" is the largest number\")\n",
    "  else:\n",
    "    print(numb_8, \" is the largest number\")\n",
    "elif numb_7>numb_8:\n",
    "  print(numb_7, \"is the largest number\")\n",
    "else:\n",
    "  print(numb_8,\" is the largest number\")"
   ]
  },
  {
   "cell_type": "code",
   "execution_count": 18,
   "id": "bee53c8e-6381-4eb0-a906-517c33542be7",
   "metadata": {},
   "outputs": [
    {
     "name": "stdin",
     "output_type": "stream",
     "text": [
      "Enter sides measurement in cm  2\n",
      "Enter sides measurement in cm  4\n",
      "Enter sides measurement in cm  4\n"
     ]
    },
    {
     "name": "stdout",
     "output_type": "stream",
     "text": [
      "Its 2 sides are equaal so it is isosceles traingl\n"
     ]
    }
   ],
   "source": [
    "##  12\n",
    "\n",
    "# Check the traingle is isosceles, equilateral or scalene \n",
    "side_1=int(input(\"Enter sides measurement in cm \"))\n",
    "side_2=int(input(\"Enter sides measurement in cm \"))\n",
    "side_3=int(input(\"Enter sides measurement in cm \"))\n",
    "\n",
    "if (side_1==side_2==side_3): # if 3 sides are equal then it is equilateral traiingle\n",
    "  print(\"Its all side are equal so it is equilateral traingle\")\n",
    "elif (side_1==side_2 or side_1==side_3 or side_2==side_3): # If 2 side are equal then it is Isosceles traingle\n",
    "  print(\"Its 2 sides are equaal so it is isosceles traingl\")\n",
    "else: # If no one side equal then it is Isoclene traingle\n",
    "  print(\"Its all side are not equal so it is scelene traingle \")"
   ]
  },
  {
   "cell_type": "code",
   "execution_count": 19,
   "id": "2ed8a6be-0856-459c-8f41-0aa8886c6fdc",
   "metadata": {},
   "outputs": [
    {
     "name": "stdin",
     "output_type": "stream",
     "text": [
      "Enter year to check leap year or not :  2004\n"
     ]
    },
    {
     "name": "stdout",
     "output_type": "stream",
     "text": [
      "It is leap year but not a century year\n"
     ]
    }
   ],
   "source": [
    "##  13\n",
    "\n",
    "year = int(input(\"Enter year to check leap year and century year or not : \"))\n",
    "\n",
    "def is_leap_yrs(year): # Function to check year is leap year or not leap year\n",
    "  if (year%4==0 and year % 100 != 0) or (year%400==0):\n",
    "    return True\n",
    "  else:\n",
    "    return False\n",
    "if is_leap_yrs(year):\n",
    "  if year%100==0: # To check year is leap or not\n",
    "    print(\"It is leap year and century year also\")\n",
    "  else: #If year not divisible by 100 so it is not century year but not century year\n",
    "    print(\"It is leap year but not a century year\")\n",
    "else:\n",
    "  print(\"Not a leap year \")"
   ]
  },
  {
   "cell_type": "code",
   "execution_count": 1,
   "id": "04d688a0-6229-4634-9620-1c941b39a2e7",
   "metadata": {},
   "outputs": [
    {
     "name": "stdout",
     "output_type": "stream",
     "text": [
      "-40  is a negative number\n"
     ]
    }
   ],
   "source": [
    "##  14\n",
    "\n",
    "# To check number is +,-, or zero\n",
    "numb_9=-40\n",
    "if numb_9==0:\n",
    "  print(numb_9, \" is a zero\")\n",
    "elif (numb_9 >0):\n",
    "  print(numb_9, \" is positive number\")\n",
    "else:\n",
    "  print(numb_9, \" is a negative number\")"
   ]
  },
  {
   "cell_type": "code",
   "execution_count": 3,
   "id": "8ae09168-ebc8-4b67-ae59-44ff7a1cdf21",
   "metadata": {},
   "outputs": [
    {
     "name": "stdout",
     "output_type": "stream",
     "text": [
      "Teenage person\n"
     ]
    }
   ],
   "source": [
    "##  15\n",
    "\n",
    "# Program to check teenager person\n",
    "years=16   \n",
    "if 0<years <=5:\n",
    "  print(\"Baby child\")\n",
    "elif 6<years<=12:\n",
    "  print(\"Little child\")\n",
    "elif 13<=years<=19:\n",
    "  print(\"Teenage person\")\n",
    "elif 20<=years<=40:\n",
    "  print(\"Young Person\")\n",
    "else:\n",
    "  print(\"Old age Person\")"
   ]
  },
  {
   "cell_type": "code",
   "execution_count": 4,
   "id": "6498d0c2-8c12-4436-8f45-b049f8faa356",
   "metadata": {},
   "outputs": [
    {
     "name": "stdout",
     "output_type": "stream",
     "text": [
      "Acute angle\n"
     ]
    }
   ],
   "source": [
    "##  16\n",
    "\n",
    "angle=45\n",
    "if 0<angle<90:\n",
    "  print(\"Acute angle\")  # angle <90 is acute angle\n",
    "elif 90<angle<=180:\n",
    "  print(\"Obtuse angle\") #angle between 90 and 180 is obtuse angle \n",
    "elif angle==90:\n",
    "  print(\"Right angle\") # angle =90 is right angle\n",
    "else:\n",
    "  print(\"Invalid input\")"
   ]
  },
  {
   "cell_type": "code",
   "execution_count": 5,
   "id": "5bac9e82-601d-4945-8509-45e33bbba4dc",
   "metadata": {},
   "outputs": [
    {
     "name": "stdin",
     "output_type": "stream",
     "text": [
      "Enter coefficient a:  4\n",
      "Enter coefficient b:  2\n",
      "Enter coefficient c:  8\n"
     ]
    },
    {
     "name": "stdout",
     "output_type": "stream",
     "text": [
      "Roots of the quadratic equation are: ((-0.25+1.3919410907075054j), (-0.25-1.3919410907075054j))\n"
     ]
    }
   ],
   "source": [
    "##  17\n",
    "\n",
    "a = float(input(\"Enter coefficient a: \"))\n",
    "b = float(input(\"Enter coefficient b: \"))\n",
    "c = float(input(\"Enter coefficient c: \"))\n",
    "\n",
    "\n",
    "def calculate_roots(a,b,c):\n",
    "  discriminant = b**2 - 4*a*c\n",
    "\n",
    "  if discriminant > 0:\n",
    "    root1=(-b+discriminant**0.5)/(2*a)\n",
    "    root2=(-b-discriminant**0.5)/(2*a)\n",
    "  elif discriminant == 0:\n",
    "        root = -b / (2*a)\n",
    "        return root, root\n",
    "  else:\n",
    "      real_part = -b / (2*a)\n",
    "      imaginary_part = abs(discriminant) ** 0.5 / (2*a)\n",
    "      root1 = complex(real_part, imaginary_part)\n",
    "      root2 = complex(real_part, -imaginary_part)\n",
    "      return root1, root2\n",
    "\n",
    "# Calculate and display the roots\n",
    "roots = calculate_roots(a, b, c)\n",
    "print(\"Roots of the quadratic equation are:\", roots)"
   ]
  },
  {
   "cell_type": "code",
   "execution_count": 6,
   "id": "489f6a4c-380f-4dbe-af8f-ed81ddb0ee13",
   "metadata": {},
   "outputs": [
    {
     "name": "stdin",
     "output_type": "stream",
     "text": [
      "Enter a umber to choose day : 4\n"
     ]
    },
    {
     "name": "stdout",
     "output_type": "stream",
     "text": [
      "The user type  4 so the day is  Thursday\n"
     ]
    }
   ],
   "source": [
    "##  18\n",
    "\n",
    "# Program to choose a day according to user input\n",
    "user_num=int(input(\"Enter a umber to choose day :\"))\n",
    "\n",
    "if user_num==1:\n",
    "  day=\"Monday\"\n",
    "elif user_num==2:\n",
    "  day=\"Tuesday\"\n",
    "elif user_num==3:\n",
    "  day=\"Wednesday\"\n",
    "elif user_num==4:\n",
    "  day=\"Thursday\"\n",
    "elif user_num==5:\n",
    "  day=\"Friday\"\n",
    "elif user_num==6:\n",
    "  day=\"Saturday\"\n",
    "elif user_num==7:\n",
    "  day=\"Sunday\"\n",
    "else:\n",
    "  print(\"Please enter number between 1-7 \")\n",
    "\n",
    "print(\"The user type \",user_num,\"so the day is \",day)"
   ]
  },
  {
   "cell_type": "code",
   "execution_count": 8,
   "id": "921ffda8-77f2-41bf-a7f0-87090913a8bb",
   "metadata": {},
   "outputs": [
    {
     "name": "stdout",
     "output_type": "stream",
     "text": [
      "Leap year and also divisible by 400\n"
     ]
    }
   ],
   "source": [
    "##  19\n",
    "\n",
    "\n",
    "year_2=2096\n",
    "if (year_2%4==0 and year_2%100 != 0) or (year_2 % 400==0):\n",
    "  print(\"Leap year and also divisible by 400\")\n",
    "else:\n",
    "  print(\"Not a leap year and divisible by 400\")"
   ]
  },
  {
   "cell_type": "code",
   "execution_count": 9,
   "id": "b0f09309-9712-418a-94a2-461bddfee4ac",
   "metadata": {},
   "outputs": [
    {
     "name": "stdin",
     "output_type": "stream",
     "text": [
      "Enter a number  47\n"
     ]
    },
    {
     "name": "stdout",
     "output_type": "stream",
     "text": [
      "47  is a prime number\n"
     ]
    }
   ],
   "source": [
    "## 20\n",
    "\n",
    "numb_10=int(input(\"Enter a number \"))\n",
    "def is_prime(num):\n",
    "  if num >1: # 1 is niether prime nor complex so prime number range start from 2 .\n",
    "    for i in range(2,num):\n",
    "      if num % i ==0:  # If it is divisible by any number except itself then it is not a prime number\n",
    "        print(num,\" is not a prime number\")\n",
    "        break\n",
    "    else:\n",
    "      print(num,\" is a prime number\")\n",
    "  else:\n",
    "    print(num,\" is not a prime number\")\n",
    "\n",
    "check_prime=is_prime(numb_10)"
   ]
  },
  {
   "cell_type": "markdown",
   "id": "19ba407a-0229-44f1-a483-9284f0bbd1eb",
   "metadata": {},
   "source": [
    "ELIF STATEMENT"
   ]
  },
  {
   "cell_type": "code",
   "execution_count": 10,
   "id": "d91f1dca-954d-4b50-a512-90d74d3169da",
   "metadata": {},
   "outputs": [
    {
     "name": "stdout",
     "output_type": "stream",
     "text": [
      "The  89 % scores grade is B\n"
     ]
    }
   ],
   "source": [
    "##  21\n",
    "\n",
    "# Check score and then show it's grade\n",
    "scores=89\n",
    "\n",
    "if 90<=scores<=100:\n",
    "  grade=\"A\"\n",
    "elif 80<=scores<90:\n",
    "  grade=\"B\"\n",
    "elif 70<=scores<80:\n",
    "  grade=\"C\"\n",
    "elif 60<=scores<70:\n",
    "  grade=\"D\"\n",
    "elif 50<=scores<60:\n",
    "  grade=\"E\"\n",
    "elif scores<50:\n",
    "  grade=\"Fail\"\n",
    "else:\n",
    "  print(\"Write correct scores\")\n",
    "\n",
    "print(\"The \",scores,\"% scores grade is\",grade)"
   ]
  },
  {
   "cell_type": "code",
   "execution_count": 11,
   "id": "2c3824a1-0a6d-4bb5-aec3-0ea397021daa",
   "metadata": {},
   "outputs": [
    {
     "name": "stdout",
     "output_type": "stream",
     "text": [
      "The triangle is a Acute Triangle\n"
     ]
    }
   ],
   "source": [
    "##  22\n",
    "\n",
    "angle1=60\n",
    "angle2=60\n",
    "angle3=60\n",
    "\n",
    "# Function to determine the type of triangle based on angles\n",
    "def triangle_type(angle1, angle2, angle3):\n",
    "    # Check if the angles form a valid triangle\n",
    "    if angle1 + angle2 + angle3 == 180:\n",
    "        # Check triangle type based on angles\n",
    "        if angle1 < 90 and angle2 < 90 and angle3 < 90:\n",
    "            return \"Acute Triangle\"\n",
    "        elif angle1 == 90 or angle2 == 90 or angle3 == 90:\n",
    "            return \"Right Triangle\"\n",
    "        else:\n",
    "            return \"Obtuse Triangle\"\n",
    "    else:\n",
    "        return \"Invalid Triangle\"\n",
    "\n",
    "\n",
    "# Call the triangle_type function and display the result\n",
    "result = triangle_type(angle1, angle2, angle3)\n",
    "print(\"The triangle is a\", result)"
   ]
  },
  {
   "cell_type": "code",
   "execution_count": 14,
   "id": "bee05384-3ac2-4a46-9a76-ab81dd4884c8",
   "metadata": {},
   "outputs": [
    {
     "name": "stdin",
     "output_type": "stream",
     "text": [
      "Enter weight in kilograms:  70\n",
      "Enter height in meters:  168\n"
     ]
    },
    {
     "name": "stdout",
     "output_type": "stream",
     "text": [
      "Your BMI is:  0.00248015873015873\n",
      "You are categorized as: Underweight\n"
     ]
    }
   ],
   "source": [
    "##  23\n",
    "\n",
    "# Input weight (in kilograms) and height (in meters) from the user\n",
    "weight = float(input(\"Enter weight in kilograms: \"))\n",
    "height = float(input(\"Enter height in meters: \"))\n",
    "\n",
    "# Function to calculate BMI and categorize it\n",
    "def categorize_bmi(weight, height):\n",
    "    # Calculate BMI\n",
    "    bmi = weight / (height ** 2)\n",
    "    \n",
    "    # Categorize BMI\n",
    "    if bmi < 18.5:\n",
    "        category = \"Underweight\"\n",
    "    elif 18.5 <= bmi < 24.9:\n",
    "        category = \"Normal Weight\"\n",
    "    elif 25 <= bmi < 29.9:\n",
    "        category = \"Overweight\"\n",
    "    else:\n",
    "        category = \"Obese\"\n",
    "    \n",
    "    return bmi, category\n",
    "\n",
    "# Call the categorize_bmi function and display the result\n",
    "bmi, category = categorize_bmi(weight, height)\n",
    "print(f\"Your BMI is: {bmi: }\")\n",
    "print(f\"You are categorized as: {category}\")"
   ]
  },
  {
   "cell_type": "code",
   "execution_count": 15,
   "id": "d8a69b53-330a-4fbf-a085-7ae372cab968",
   "metadata": {},
   "outputs": [
    {
     "name": "stdin",
     "output_type": "stream",
     "text": [
      "Enter a number:  5869\n"
     ]
    },
    {
     "name": "stdout",
     "output_type": "stream",
     "text": [
      "The number is positive.\n"
     ]
    }
   ],
   "source": [
    "##  24\n",
    "\n",
    "# Input number from the user\n",
    "number = float(input(\"Enter a number: \"))\n",
    "\n",
    "# Determine if the number is positive, negative, or zero using elif statements\n",
    "if number > 0:\n",
    "    print(\"The number is positive.\")\n",
    "elif number < 0:\n",
    "    print(\"The number is negative.\")\n",
    "else:\n",
    "    print(\"The number is zero.\")"
   ]
  },
  {
   "cell_type": "code",
   "execution_count": 18,
   "id": "2482e0df-e1e3-43d0-bce8-f0c0aa693613",
   "metadata": {},
   "outputs": [
    {
     "name": "stdin",
     "output_type": "stream",
     "text": [
      "enter a character to check it's case : aaaaaaer\n"
     ]
    },
    {
     "name": "stdout",
     "output_type": "stream",
     "text": [
      "The character is in lower case .\n"
     ]
    }
   ],
   "source": [
    "##  25\n",
    "\n",
    "character_2=input(\"enter a character to check it's case :\")\n",
    "\n",
    "if character_2.isupper(): # Check character by using .isupper() function\n",
    "  print(\"The character is in upper case .\")\n",
    "elif character_2.islower():# Check character by using .islower() function\n",
    "  print(\"The character is in lower case .\")\n",
    "else:\n",
    "  print(\"The character is special case .\")"
   ]
  },
  {
   "cell_type": "code",
   "execution_count": 19,
   "id": "56e1c721-d70f-4d50-bd3f-a63f7dc5dc76",
   "metadata": {},
   "outputs": [
    {
     "name": "stdout",
     "output_type": "stream",
     "text": [
      "On this festival get  1000 discount amount on  5000 purchase amount\n"
     ]
    }
   ],
   "source": [
    "##  26\n",
    "\n",
    "purchase_amt=5000\n",
    "\n",
    "if purchase_amt >= 5000:\n",
    "  discount_amt=1000\n",
    "elif purchase_amt >= 2500:\n",
    "  discount_amt=500\n",
    "elif purchase_amt >= 1000:\n",
    "  discount_amt=200\n",
    "else:\n",
    "  discount_amt=0\n",
    "\n",
    "print(\"On this festival get \",discount_amt,\"discount amount on \",purchase_amt,\"purchase amount\")"
   ]
  },
  {
   "cell_type": "code",
   "execution_count": 20,
   "id": "ebdbae09-509c-40b4-9ec9-5e49222663f7",
   "metadata": {},
   "outputs": [
    {
     "name": "stdin",
     "output_type": "stream",
     "text": [
      "Enter the electricity consumption in kWh:  150\n"
     ]
    },
    {
     "name": "stdout",
     "output_type": "stream",
     "text": [
      "Electricity bill: rupee 17.50\n"
     ]
    }
   ],
   "source": [
    "##  27\n",
    "\n",
    "consumption = float(input(\"Enter the electricity consumption in kWh: \"))\n",
    "\n",
    "# Determine the electricity bill \n",
    "if consumption <= 100:\n",
    "    # For the first 100 kWh, the rate is rupee 0.10 per kWh\n",
    "    bill = consumption * 0.10\n",
    "elif consumption <= 300:\n",
    "    # For consumption between 101 kWh and 300 kWh, the rate is rupee 0.15 per kWh\n",
    "    bill = 100 * 0.10 + (consumption - 100) * 0.15\n",
    "elif consumption <= 500:\n",
    "    # For consumption between 301 kWh and 500 kWh, the rate is rupee 0.20 per kWh\n",
    "    bill = 100 * 0.10 + 200 * 0.15 + (consumption - 300) * 0.20\n",
    "else:\n",
    "    # For consumption above 500 kWh, the rate is rupee 0.25 per kWh\n",
    "    bill = 100 * 0.10 + 200 * 0.15 + 200 * 0.20 + (consumption - 500) * 0.25\n",
    "\n",
    "# Display the electricity bill\n",
    "print(\"Electricity bill: rupee\", format(bill, \".2f\"))"
   ]
  },
  {
   "cell_type": "code",
   "execution_count": 1,
   "id": "d86a8bb4-c7b2-47f0-aef9-7f798b444c86",
   "metadata": {},
   "outputs": [
    {
     "name": "stdin",
     "output_type": "stream",
     "text": [
      "Enter the first angle in degrees:  90\n",
      "Enter the second angle in degrees:  90\n",
      "Enter the third angle in degrees:  90\n",
      "Enter the fourth angle in degrees:  90\n",
      "Enter the length of the first side:  4\n",
      "Enter the length of the second side:  4\n",
      "Enter the length of the third side:  4\n",
      "Enter the length of the fourth side:  4\n"
     ]
    },
    {
     "name": "stdout",
     "output_type": "stream",
     "text": [
      "It is a Square.\n"
     ]
    }
   ],
   "source": [
    "#### 28\n",
    "\n",
    "# Input angles of the quadrilateral from the user\n",
    "angle1 = float(input(\"Enter the first angle in degrees: \"))\n",
    "angle2 = float(input(\"Enter the second angle in degrees: \"))\n",
    "angle3 = float(input(\"Enter the third angle in degrees: \"))\n",
    "angle4 = float(input(\"Enter the fourth angle in degrees: \"))\n",
    "\n",
    "# Input sides of the quadrilateral from the user\n",
    "side1 = float(input(\"Enter the length of the first side: \"))\n",
    "side2 = float(input(\"Enter the length of the second side: \"))\n",
    "side3 = float(input(\"Enter the length of the third side: \"))\n",
    "side4 = float(input(\"Enter the length of the fourth side: \"))\n",
    "\n",
    "# Determine the type of quadrilateral based on angles and sides using elif statements\n",
    "if angle1 + angle2 + angle3 + angle4 == 360:\n",
    "    if side1 == side2 == side3 == side4:\n",
    "        print(\"It is a Square.\")\n",
    "    elif side1 == side3 and side2 == side4:\n",
    "        print(\"It is a Rectangle.\")\n",
    "    else:\n",
    "        print(\"It is a Quadrilateral.\")\n",
    "else:\n",
    "  \n",
    "    print(\"Invalid input. The angles of a quadrilateral must add up to 360 degrees.\")"
   ]
  },
  {
   "cell_type": "code",
   "execution_count": 3,
   "id": "6b963058-e843-44e7-9df6-1e8bba653eee",
   "metadata": {},
   "outputs": [
    {
     "name": "stdin",
     "output_type": "stream",
     "text": [
      "Enter the name of the month:  October\n"
     ]
    },
    {
     "name": "stdout",
     "output_type": "stream",
     "text": [
      "The season for October is Autumn.\n"
     ]
    }
   ],
   "source": [
    "##   29\n",
    "\n",
    "# Input month from the user\n",
    "month = input(\"Enter the name of the month: \")\n",
    "# Convert month to lowercase for case-insensitive comparison\n",
    "month = month.lower()\n",
    "\n",
    "# Determine the season based on the input month using elif statements\n",
    "if month in [\"december\", \"january\", \"february\"]:\n",
    "    season = \"Winter\"\n",
    "elif month in [\"march\", \"april\", \"may\"]:\n",
    "    season = \"Spring\"\n",
    "elif month in [\"june\", \"july\", \"august\"]:\n",
    "    season = \"Summer\"\n",
    "elif month in [\"september\", \"october\", \"november\"]:\n",
    "    season = \"Autumn\"\n",
    "else:\n",
    "    season = \"Invalid Month\"\n",
    "\n",
    "print(f\"The season for {month.capitalize()} is {season}.\")"
   ]
  },
  {
   "cell_type": "code",
   "execution_count": 4,
   "id": "d2df9c6e-8b47-4319-80d5-bcca1a31ca51",
   "metadata": {},
   "outputs": [
    {
     "name": "stdin",
     "output_type": "stream",
     "text": [
      "Enter a year:  2023\n",
      "Enter a month (1-12):  10\n"
     ]
    },
    {
     "name": "stdout",
     "output_type": "stream",
     "text": [
      "2023 is a Common Year.\n",
      "The month has 31 days.\n"
     ]
    }
   ],
   "source": [
    "##  30\n",
    "\n",
    "# Input year and month from the user\n",
    "year = int(input(\"Enter a year: \"))\n",
    "month = int(input(\"Enter a month (1-12): \"))\n",
    "\n",
    "# Determine if it's a leap year using elif statements\n",
    "if (year % 4 == 0 and year % 100 != 0) or (year % 400 == 0):\n",
    "    year_type = \"Leap Year\"\n",
    "else:\n",
    "    year_type = \"Common Year\"\n",
    "\n",
    "# Determine the number of days in the month using elif statements\n",
    "if month in [1, 3, 5, 7, 8, 10, 12]:\n",
    "    month_days = 31\n",
    "elif month in [4, 6, 9, 11]:\n",
    "    month_days = 30\n",
    "elif month == 2:\n",
    "    if year_type == \"Leap Year\":\n",
    "        month_days = 29\n",
    "    else:\n",
    "        month_days = 28\n",
    "else:\n",
    "    month_days = \"Invalid Month\"\n",
    "\n",
    "# Display the type of year and number of days in the month\n",
    "print(f\"{year} is a {year_type}.\")\n",
    "if month_days == \"Invalid Month\":\n",
    "    print(\"Invalid month input.\")\n",
    "else:\n",
    "    print(f\"The month has {month_days} days.\")"
   ]
  },
  {
   "cell_type": "markdown",
   "id": "f9bea06b-f29e-4cd5-b4ed-3eb87322ccce",
   "metadata": {},
   "source": [
    "BASIC LEVEL"
   ]
  },
  {
   "cell_type": "code",
   "execution_count": 6,
   "id": "c7e0f857-573c-424c-9158-cc6e9bf3be54",
   "metadata": {},
   "outputs": [
    {
     "name": "stdout",
     "output_type": "stream",
     "text": [
      "Number is a negative\n"
     ]
    }
   ],
   "source": [
    "##  1\n",
    "\n",
    "# Program to check number is positive or negative number or zero\n",
    "numb_11=-24\n",
    "if numb_11==0:\n",
    "  print(\"Number is zero\")\n",
    "elif numb_11>0:\n",
    "  print(\"Number is a positive number\")\n",
    "else:\n",
    "  print((\"Number is a negative\"))\n"
   ]
  },
  {
   "cell_type": "code",
   "execution_count": 7,
   "id": "e26e08d1-4177-46e3-8922-3ca1c4466638",
   "metadata": {},
   "outputs": [
    {
     "name": "stdout",
     "output_type": "stream",
     "text": [
      "You are eligible to vote\n"
     ]
    }
   ],
   "source": [
    "##  2\n",
    "\n",
    "# Checking voting eligibility \n",
    "age_people=23\n",
    "if age_people>=18:\n",
    "  print(\"You are eligible to vote\")\n",
    "else:\n",
    "  print(\"No you are not eligible to vote\")"
   ]
  },
  {
   "cell_type": "code",
   "execution_count": 8,
   "id": "f59e9c2a-8bd2-4571-b4e8-87c993778188",
   "metadata": {},
   "outputs": [
    {
     "name": "stdout",
     "output_type": "stream",
     "text": [
      "35 is a maximum number\n"
     ]
    }
   ],
   "source": [
    "##  3\n",
    "\n",
    "# Find the maximum number between two number\n",
    "a=24\n",
    "b=35\n",
    "def max_num(a,b):\n",
    "  if a>b:\n",
    "    return a\n",
    "  else:\n",
    "    return b\n",
    "\n",
    "result=max_num(a,b)\n",
    "print(result, \"is a maximum number\")"
   ]
  },
  {
   "cell_type": "code",
   "execution_count": 10,
   "id": "44b2a367-d315-44e1-80be-e256f743d09d",
   "metadata": {},
   "outputs": [
    {
     "name": "stdout",
     "output_type": "stream",
     "text": [
      "Students grade according to exam score is  C\n"
     ]
    }
   ],
   "source": [
    "##  4\n",
    "\n",
    "exam_score=76\n",
    "# funtion to print grade according to student scores\n",
    "def student_grade(score):\n",
    "  if 90<=score <=100:\n",
    "    return \"A\"\n",
    "  elif score >=80:\n",
    "    return \"B\"\n",
    "  elif score >=70:\n",
    "    return \"C\"\n",
    "  elif score >=60:\n",
    "    return \"D\"\n",
    "  elif score >=50:\n",
    "    return \"E\"\n",
    "  else:\n",
    "    return \"Fail\"\n",
    "result_1=student_grade(exam_score)\n",
    "print(\"Students grade according to exam score is \",result_1)"
   ]
  },
  {
   "cell_type": "code",
   "execution_count": 11,
   "id": "1db25456-80ab-4006-bf52-16fd42368e70",
   "metadata": {},
   "outputs": [
    {
     "name": "stdout",
     "output_type": "stream",
     "text": [
      "3032  is a leap year\n"
     ]
    }
   ],
   "source": [
    "##  5\n",
    "\n",
    "# Checking leap year or not.\n",
    "year_3=3032\n",
    "def is_leap(yrs):\n",
    "  if (yrs%4==0 and yrs%100 != 0) or (yrs%400==0):\n",
    "    print(yrs,\" is a leap year\")\n",
    "  else:\n",
    "    print(yrs, \" is not a leap year\")\n",
    "\n",
    "leap_year=is_leap(year_3)"
   ]
  },
  {
   "cell_type": "code",
   "execution_count": 12,
   "id": "2effb895-dc33-4978-b402-5982c3bfb3a7",
   "metadata": {},
   "outputs": [
    {
     "name": "stdout",
     "output_type": "stream",
     "text": [
      "According to side provided that is  Scalene traingle\n"
     ]
    }
   ],
   "source": [
    "##  6\n",
    "\n",
    "side1=4\n",
    "side2=3\n",
    "side3=2\n",
    "# Function to check traingle category\n",
    "def traingle_type(side1,side2,side3):\n",
    "  if (side1==side2==side3):\n",
    "    return \"Equilateral traingle\"\n",
    "  elif (side1==side2 or side2==side3 or side3==side1):\n",
    "    return \"Isosceles traingle\"\n",
    "  else:\n",
    "    return \"Scalene traingle\"\n",
    "\n",
    "check_traingle=traingle_type(side1,side2,side3)\n",
    "print(\"According to side provided that is \",check_traingle)"
   ]
  },
  {
   "cell_type": "code",
   "execution_count": 15,
   "id": "a3691418-ae6b-4c46-9cca-b6e9d100ed0c",
   "metadata": {},
   "outputs": [
    {
     "name": "stdout",
     "output_type": "stream",
     "text": [
      "The largest number among three is  346\n"
     ]
    }
   ],
   "source": [
    "##  7\n",
    "\n",
    "x=346\n",
    "y=250\n",
    "z=340\n",
    "# Function to find largest number among three number\n",
    "def largest_num(x,y,z):\n",
    "  #Checking the condition\n",
    "  if x>y and x>z:\n",
    "    return x\n",
    "  elif y>z:\n",
    "    return y\n",
    "  else: \n",
    "    return z\n",
    "\n",
    "large_num=largest_num(x,y,z)\n",
    "print(\"The largest number among three is \",large_num)"
   ]
  },
  {
   "cell_type": "code",
   "execution_count": 17,
   "id": "59d1602d-3417-4de0-ae63-e936f560dbca",
   "metadata": {},
   "outputs": [
    {
     "name": "stdin",
     "output_type": "stream",
     "text": [
      "Enter a character:  r\n"
     ]
    },
    {
     "name": "stdout",
     "output_type": "stream",
     "text": [
      "The character 'r' is a Consonant.\n"
     ]
    }
   ],
   "source": [
    "##  8\n",
    "\n",
    "# Function to check if a character is a vowel or a consonant\n",
    "def check_vowel_or_consonant(char):\n",
    "    # Convert the character to lowercase to handle both uppercase and lowercase input\n",
    "    char = char.lower()\n",
    "    \n",
    "    # Check if the character is a vowel\n",
    "    if char in ['a', 'e', 'i', 'o', 'u']:\n",
    "        return \"Vowel\"\n",
    "    else:\n",
    "        return \"Consonant\"\n",
    "\n",
    "# Main function to take user input and call the check_vowel_or_consonant function\n",
    "def main():\n",
    "    # Take user input for a character\n",
    "    char = input(\"Enter a character: \")\n",
    "    \n",
    "    # Check if the input is a single character\n",
    "    if len(char) == 1 and char.isalpha():\n",
    "        result = check_vowel_or_consonant(char)\n",
    "        print(f\"The character '{char}' is a {result}.\")\n",
    "    else:\n",
    "        print(\"Invalid input. Please enter a single character.\")\n",
    "\n",
    "# Call the main function\n",
    "if __name__ == \"__main__\":\n",
    "    main()"
   ]
  },
  {
   "cell_type": "code",
   "execution_count": 15,
   "id": "775ff835-63db-4c52-8279-e3918d7f9f3f",
   "metadata": {},
   "outputs": [
    {
     "name": "stdout",
     "output_type": "stream",
     "text": [
      "The total cost of a shoping cart based on discount is 1200.0\n"
     ]
    }
   ],
   "source": [
    "##  9\n",
    "\n",
    "# calculate total shoping cost\n",
    "shoping_cost=1500\n",
    "# Function to find total cost price with gien discount\n",
    "def  total_cost(price):\n",
    "  if price>=1000:\n",
    "    discount=0.2\n",
    "    return shoping_cost - (discount*shoping_cost)\n",
    "  elif price>=2000:\n",
    "    discount=0.4\n",
    "    return shoping_cost - (discount*shoping_cost)\n",
    "  elif price>5000:\n",
    "    discount=0.6\n",
    "    return shoping_cost - (discount*shoping_cost)\n",
    "  else:\n",
    "    discount=0\n",
    "    print(\"No discount is available\")\n",
    "    return shoping_cost\n",
    "\n",
    "shopping_price=total_cost(shoping_cost)\n",
    "print(\"The total cost of a shoping cart based on discount is\",shopping_price)"
   ]
  },
  {
   "cell_type": "code",
   "execution_count": 16,
   "id": "d2af69f6-d9cd-4b0e-afe3-f9b162340a72",
   "metadata": {},
   "outputs": [
    {
     "name": "stdout",
     "output_type": "stream",
     "text": [
      "Odd number\n"
     ]
    }
   ],
   "source": [
    "##  10\n",
    "\n",
    "numb_12=45\n",
    "\n",
    "if numb_12%2==0:  #if it produce 0 as remainder show then it will be even number\n",
    "  print(\"Even number\")\n",
    "else:\n",
    "  print(\"Odd number\")"
   ]
  },
  {
   "cell_type": "markdown",
   "id": "509fd0e8-0e4f-429e-a958-0fd6ab0e72b2",
   "metadata": {},
   "source": [
    "INTERMEDIATE LEVEL "
   ]
  },
  {
   "cell_type": "code",
   "execution_count": 18,
   "id": "5d6a1456-886e-403c-bc14-360af5980f66",
   "metadata": {},
   "outputs": [
    {
     "name": "stdout",
     "output_type": "stream",
     "text": [
      "Roots of the quadratic equation:\n",
      "Root 1: 1.75\n",
      "Root 2: 1.25\n"
     ]
    }
   ],
   "source": [
    "##  11\n",
    "\n",
    "a=1\n",
    "b=-3\n",
    "c=2\n",
    "# Function to calculate roots of a quadratic equation\n",
    "def calculate_roots(a, b, c):\n",
    "    # Calculate the discriminant\n",
    "    discriminant = b ** 2 - 4 * a * c\n",
    "\n",
    "    # Calculate roots\n",
    "    root1 =(-b + (discriminant*0.5)) / (2 * a)\n",
    "    root2 =(-b - (discriminant*0.5)) / (2 * a)\n",
    "    return root1, root2\n",
    "\n",
    "\n",
    "roots = calculate_roots(a, b, c)\n",
    "\n",
    "# Output the roots\n",
    "print(\"Roots of the quadratic equation:\")\n",
    "print(\"Root 1:\", roots[0])\n",
    "print(\"Root 2:\", roots[1])"
   ]
  },
  {
   "cell_type": "code",
   "execution_count": 20,
   "id": "f3a3d052-5664-465a-8cf2-261d6e103131",
   "metadata": {},
   "outputs": [
    {
     "name": "stdout",
     "output_type": "stream",
     "text": [
      "Number  7  is a  Saturday\n"
     ]
    }
   ],
   "source": [
    "##  12\n",
    "\n",
    "# Enter a number and choose a day according to number\n",
    "numb_13=7\n",
    "\n",
    "if numb_13==1:\n",
    "  day=\"Sunday\"\n",
    "elif numb_13==2:\n",
    "  day=\"Monday\"\n",
    "elif numb_13==3:\n",
    "  day=\"Tuesday\"\n",
    "elif numb_13==4:\n",
    "  day=\"Wednesday\"\n",
    "elif numb_13==5:\n",
    "  day=\"Thursday\"\n",
    "elif numb_13==6:\n",
    "  day=\"Friday\"\n",
    "elif numb_13==7:\n",
    "  day=\"Saturday\"\n",
    "else:\n",
    "  print(\"Enter number between 1 and 7\")\n",
    "\n",
    "print(\"Number \",numb_13, \" is a \",day)"
   ]
  },
  {
   "cell_type": "code",
   "execution_count": 21,
   "id": "20b54090-9848-4a8e-864d-54454e979505",
   "metadata": {},
   "outputs": [
    {
     "name": "stdout",
     "output_type": "stream",
     "text": [
      "The factorial of  6  is  5040\n"
     ]
    }
   ],
   "source": [
    "##  13\n",
    "\n",
    "numb_14=6\n",
    "# Function to find the factorial of number\n",
    "def fact(n):\n",
    "  if n==0:\n",
    "    return 1\n",
    "  else:\n",
    "    return n*fact(n-1)\n",
    "\n",
    "factorial_num=fact(numb_13)\n",
    "print(\"The factorial of \",numb_14,\" is \",factorial_num)"
   ]
  },
  {
   "cell_type": "code",
   "execution_count": 22,
   "id": "9647fdd6-7606-4b90-be4e-38dae5fee00a",
   "metadata": {},
   "outputs": [
    {
     "name": "stdout",
     "output_type": "stream",
     "text": [
      "The largest number among three is  346\n"
     ]
    }
   ],
   "source": [
    "##  14\n",
    "\n",
    "x=346\n",
    "y=250\n",
    "z=340\n",
    "# Function to find largest number among three\n",
    "def largest_num(x,y,z):\n",
    "  if x>y and x>z:\n",
    "    return x\n",
    "  elif y>z:\n",
    "    return y\n",
    "  else: \n",
    "    return z\n",
    "\n",
    "large_num=largest_num(x,y,z)\n",
    "print(\"The largest number among three is \",large_num)"
   ]
  },
  {
   "cell_type": "code",
   "execution_count": 23,
   "id": "e3954b4c-2524-40dc-9eb3-4203bb4e5f31",
   "metadata": {},
   "outputs": [
    {
     "name": "stdout",
     "output_type": "stream",
     "text": [
      "\n",
      "ATM Menu:\n",
      "1. Check Balance\n",
      "2. Deposit\n",
      "3. Withdraw\n",
      "4. Quit\n"
     ]
    },
    {
     "name": "stdin",
     "output_type": "stream",
     "text": [
      "Enter your choice:  1\n"
     ]
    },
    {
     "name": "stdout",
     "output_type": "stream",
     "text": [
      "Your account balance is: $1000\n",
      "\n",
      "ATM Menu:\n",
      "1. Check Balance\n",
      "2. Deposit\n",
      "3. Withdraw\n",
      "4. Quit\n"
     ]
    },
    {
     "name": "stdin",
     "output_type": "stream",
     "text": [
      "Enter your choice:  4\n"
     ]
    },
    {
     "name": "stdout",
     "output_type": "stream",
     "text": [
      "Thank you for using the ATM. Goodbye!\n"
     ]
    }
   ],
   "source": [
    "##  15\n",
    "\n",
    "\n",
    "# ATM simulation program\n",
    "# Initial account balance\n",
    "account_balance = 1000\n",
    "\n",
    "# Function to display account balance\n",
    "def display_balance():\n",
    "    print(\"Your account balance is: $\" + str(account_balance))\n",
    "\n",
    "# Function to deposit money\n",
    "def deposit():\n",
    "    global account_balance\n",
    "    deposit_amount = float(input(\"Enter deposit amount: $\"))\n",
    "    account_balance += deposit_amount\n",
    "    print(\"Deposit of $\" + str(deposit_amount) + \" successful.\")\n",
    "    display_balance()\n",
    "\n",
    "# Function to withdraw money\n",
    "def withdraw():\n",
    "    global account_balance\n",
    "    withdraw_amount = float(input(\"Enter withdrawal amount: $\"))\n",
    "    if withdraw_amount > account_balance:\n",
    "        print(\"Insufficient funds. Withdrawal failed.\")\n",
    "    else:\n",
    "        account_balance -= withdraw_amount\n",
    "        print(\"Withdrawal of $\" + str(withdraw_amount) + \" successful.\")\n",
    "    display_balance()\n",
    "\n",
    "# Main function to display menu and process transactions\n",
    "def main():\n",
    "    while True:\n",
    "        print(\"\\nATM Menu:\")\n",
    "        print(\"1. Check Balance\")\n",
    "        print(\"2. Deposit\")\n",
    "        print(\"3. Withdraw\")\n",
    "        print(\"4. Quit\")\n",
    "        choice = input(\"Enter your choice: \")\n",
    "\n",
    "        if choice == \"1\":\n",
    "            display_balance()\n",
    "        elif choice == \"2\":\n",
    "            deposit()\n",
    "        elif choice == \"3\":\n",
    "            withdraw()\n",
    "        elif choice == \"4\":\n",
    "            print(\"Thank you for using the ATM. Goodbye!\")\n",
    "            break\n",
    "        else:\n",
    "            print(\"Invalid choice. Please try again.\")\n",
    "\n",
    "# Run the ATM program\n",
    "if __name__ == \"__main__\":\n",
    "    main()"
   ]
  },
  {
   "cell_type": "code",
   "execution_count": 24,
   "id": "cf0fba85-76d6-4095-bc5a-26a6b7071a46",
   "metadata": {},
   "outputs": [
    {
     "name": "stdout",
     "output_type": "stream",
     "text": [
      "String is a palindrome\n"
     ]
    }
   ],
   "source": [
    "##  16\n",
    "\n",
    "# Check palndrome string\n",
    "input_str=\"HEY YEH\"\n",
    "if input_str[:]==input_str[::-1]:\n",
    "  print(\"String is a palindrome\")\n",
    "else:\n",
    "  print(\"String is not a palindrome\")"
   ]
  },
  {
   "cell_type": "code",
   "execution_count": 25,
   "id": "f178de76-4035-48ef-88fa-abba0075a766",
   "metadata": {},
   "outputs": [
    {
     "name": "stdout",
     "output_type": "stream",
     "text": [
      "Average excluding the smallest and largest values: 10.4\n"
     ]
    }
   ],
   "source": [
    "##  17\n",
    "\n",
    "numbers = [12, 5, 7, 23, 10, 15, 8]\n",
    "# Function to calculate the average excluding the smallest and largest values\n",
    "def calculate_average(numbers):\n",
    "    if len(numbers) <= 2:\n",
    "        return \"Not enough numbers to calculate the average.\"\n",
    "\n",
    "    # Exclude the smallest and largest values\n",
    "    numbers.sort()  # Sort the list in ascending order\n",
    "    excluded_numbers = numbers[1:-1]  # Exclude the first and last elements\n",
    "\n",
    "    # Calculate the average of the remaining numbers\n",
    "    average = sum(excluded_numbers) / len(excluded_numbers)\n",
    "    return average\n",
    "\n",
    "\n",
    "# Calculate and output the average\n",
    "result = calculate_average(numbers)\n",
    "print(\"Average excluding the smallest and largest values:\", result)"
   ]
  },
  {
   "cell_type": "code",
   "execution_count": 26,
   "id": "7ce9f70a-806f-4ef1-895b-2812b129633f",
   "metadata": {},
   "outputs": [
    {
     "name": "stdout",
     "output_type": "stream",
     "text": [
      "The conversion of  23 celsius into fahrenheit is 73.4\n"
     ]
    }
   ],
   "source": [
    "##  18\n",
    "\n",
    "# Converting celsius to fahrenheit degree\n",
    "celsius_degree=23\n",
    "def celsius_to_fahrenheit(celsius):\n",
    "    fahrenheit = (celsius * 9/5) + 32\n",
    "    return fahrenheit\n",
    "\n",
    "result=celsius_to_fahrenheit(celsius_degree)\n",
    "print(\"The conversion of \",celsius_degree,\"celsius into fahrenheit is\",result)"
   ]
  },
  {
   "cell_type": "code",
   "execution_count": 27,
   "id": "fd99a1ab-e4f5-4f99-84a0-481a12698034",
   "metadata": {},
   "outputs": [
    {
     "name": "stdout",
     "output_type": "stream",
     "text": [
      "\n",
      "Simple Calculator: Choose number from 1,2,3,4,5\n",
      "1. Addition\n",
      "2. Subtraction\n",
      "3. Multiplication\n",
      "4. Division\n",
      "5. Exit\n"
     ]
    },
    {
     "name": "stdin",
     "output_type": "stream",
     "text": [
      "\n",
      "Enter choice (1, 2, 3, 4, or 5):  4\n",
      "\n",
      "Enter number 88\n",
      "Enter number 44\n"
     ]
    },
    {
     "name": "stdout",
     "output_type": "stream",
     "text": [
      "\n",
      " Division RESULT 2.0\n",
      "\n",
      "Simple Calculator: Choose number from 1,2,3,4,5\n",
      "1. Addition\n",
      "2. Subtraction\n",
      "3. Multiplication\n",
      "4. Division\n",
      "5. Exit\n"
     ]
    },
    {
     "name": "stdin",
     "output_type": "stream",
     "text": [
      "\n",
      "Enter choice (1, 2, 3, 4, or 5):  5\n"
     ]
    },
    {
     "name": "stdout",
     "output_type": "stream",
     "text": [
      "\n",
      "Exit from calculator\n"
     ]
    }
   ],
   "source": [
    "##  19\n",
    "\n",
    "# Format of simple calculator\n",
    "while True:   #Use while loop to iterate function of calcultor\n",
    "  print(\"\\nSimple Calculator: Choose number from 1,2,3,4,5\")\n",
    "  print(\"1. Addition\")\n",
    "  print(\"2. Subtraction\")\n",
    "  print(\"3. Multiplication\")\n",
    "  print(\"4. Division\")\n",
    "  print(\"5. Exit\")\n",
    "        \n",
    "  choice = input(\"\\nEnter choice (1, 2, 3, 4, or 5): \")\n",
    "  if  choice in [\"1\",\"2\",\"3\",\"4\"]:\n",
    "    num1=int(input(\"\\nEnter number\"))\n",
    "    num2=int(input(\"Enter number\"))\n",
    "\n",
    "\n",
    "    if choice==\"1\":\n",
    "      result=num1+num2\n",
    "      print(\"\\n Addition RESULT\",result)\n",
    "    elif choice==\"2\":\n",
    "      result=num1-num2\n",
    "      print(\"\\n Subtraction RESULT\",result)\n",
    "    elif choice==\"3\":\n",
    "      result=num1*num2\n",
    "      print(\"\\n Multiplication RESULT\",result)\n",
    "    elif choice==\"4\":\n",
    "      if num2==0:\n",
    "        print(\"\\nInfinity\")\n",
    "      else:\n",
    "        result=num1/num2\n",
    "        print(\"\\n Division RESULT\",result)\n",
    "  elif choice==\"5\":\n",
    "    print(\"\\nExit from calculator\")\n",
    "    break\n",
    "  else:\n",
    "    print(\"Invalid choice. Choose number from 1,2,3,4,5\")"
   ]
  },
  {
   "cell_type": "code",
   "execution_count": 29,
   "id": "6133171a-ef63-48c1-bea2-4f5dddc44d67",
   "metadata": {},
   "outputs": [
    {
     "name": "stdin",
     "output_type": "stream",
     "text": [
      "Enter coefficient a:  1\n",
      "Enter coefficient b:  -4\n",
      "Enter coefficient c:  2\n",
      "Enter coefficient d:  3\n"
     ]
    },
    {
     "name": "stdout",
     "output_type": "stream",
     "text": [
      "Roots of the cubic equation:\n",
      "Root: 1.666667\n",
      "Root: -1.951367\n",
      "Root: 0.284701\n"
     ]
    }
   ],
   "source": [
    "##  20\n",
    "\n",
    "import math\n",
    "\n",
    "# Function to calculate the roots of a cubic equation using Cardano's formula\n",
    "def cubic_roots(a, b, c, d):\n",
    "    p = c / a - (b ** 2) / (3 * (a ** 2))\n",
    "    q = 2 * (b ** 3) / (27 * (a ** 3)) - (b * c) / (3 * (a ** 2)) + d / a\n",
    "    delta = (q ** 2) / 4 + (p ** 3) / 27\n",
    "    \n",
    "    if delta > 0:\n",
    "        sqrt_delta = math.sqrt(delta)\n",
    "        u = (-q / 2) + sqrt_delta\n",
    "        v = (-q / 2) - sqrt_delta\n",
    "        root1 = round(math.pow(u, 1/3) + math.pow(v, 1/3), 6)\n",
    "        return [root1]\n",
    "    elif delta == 0:\n",
    "        if q >= 0:\n",
    "            root1 = round(2 * math.pow(q, 1/3), 6)\n",
    "            root2 = round(-math.pow(q, 1/3), 6)\n",
    "            return [root1, root2]\n",
    "        else:\n",
    "            root1 = round(-math.pow(-q, 1/3), 6)\n",
    "            return [root1]\n",
    "    else:\n",
    "        phi = math.acos(-q / (2 * math.sqrt(-p ** 3 / 27)))\n",
    "        root1 = round(2 * math.sqrt(-p / 3) * math.cos(phi / 3), 6)\n",
    "        root2 = round(2 * math.sqrt(-p / 3) * math.cos((phi + 2 * math.pi) / 3), 6)\n",
    "        root3 = round(2 * math.sqrt(-p / 3) * math.cos((phi + 4 * math.pi) / 3), 6)\n",
    "        return [root1, root2, root3]\n",
    "\n",
    "# Main function to take input coefficients and display roots\n",
    "def main():\n",
    "    try:\n",
    "        # Take input coefficients from the user\n",
    "        a = float(input(\"Enter coefficient a: \")) \n",
    "        b = float(input(\"Enter coefficient b: \")) \n",
    "        c = float(input(\"Enter coefficient c: \")) \n",
    "        d = float(input(\"Enter coefficient d: \")) \n",
    "        \n",
    "        # Calculate roots using Cardano's formula\n",
    "        roots = cubic_roots(a, b, c, d)\n",
    "        \n",
    "        # Display the roots\n",
    "        print(\"Roots of the cubic equation:\")\n",
    "        for root in roots:\n",
    "            print(\"Root:\", root)\n",
    "    except ValueError:\n",
    "        print(\"Invalid input. Please enter valid numeric coefficients.\")\n",
    "\n",
    "# Call the main function if the script is run\n",
    "if __name__ == \"__main__\":\n",
    "    main()"
   ]
  },
  {
   "cell_type": "markdown",
   "id": "84120018-a106-4830-8a5e-e6ce5abd85fa",
   "metadata": {},
   "source": [
    "ADVANCED LEVEL "
   ]
  },
  {
   "cell_type": "code",
   "execution_count": 30,
   "id": "aafc9a32-8d6e-4f90-b438-7a741e6215c0",
   "metadata": {},
   "outputs": [
    {
     "name": "stdout",
     "output_type": "stream",
     "text": [
      "Your income tax is: Rupee 240667.00\n"
     ]
    }
   ],
   "source": [
    "##  21\n",
    "\n",
    "# Take user input for income\n",
    "income = 600000\n",
    "\n",
    "        \n",
    "       \n",
    "# Function to calculate income tax based on income and tax bracket\n",
    "def calculate_income_tax(income):\n",
    "    if income <= 18200:\n",
    "        tax = 0\n",
    "    elif income <= 45000:\n",
    "        tax = (income - 18200) * 0.19\n",
    "    elif income <= 120000:\n",
    "        tax = 5092 + (income - 45000) * 0.325\n",
    "    elif income <= 180000:\n",
    "        tax = 29467 + (income - 120000) * 0.37\n",
    "    else:\n",
    "        tax = 51667 + (income - 180000) * 0.45\n",
    "    return tax\n",
    "\n",
    "\n",
    "# Calculate income tax\n",
    "tax = calculate_income_tax(income)\n",
    "        \n",
    "# Display the calculated tax\n",
    "print(f\"Your income tax is: Rupee {tax:.2f}\")"
   ]
  },
  {
   "cell_type": "code",
   "execution_count": 32,
   "id": "a23f544e-da78-4393-9492-c39150cc19cd",
   "metadata": {},
   "outputs": [
    {
     "name": "stdout",
     "output_type": "stream",
     "text": [
      "\n",
      "Welcome to Rock Paper Scissors Game\n"
     ]
    },
    {
     "name": "stdin",
     "output_type": "stream",
     "text": [
      "Enter 1 for Rock, \n",
      " 2 for Paper, \n",
      " 3 for Scissors \n",
      " 4 for quit the game : 2\n"
     ]
    },
    {
     "name": "stdout",
     "output_type": "stream",
     "text": [
      "Computer enter 2\n",
      "User enter 2\n",
      "It's Draw\n",
      "\n",
      "Welcome to Rock Paper Scissors Game\n"
     ]
    },
    {
     "name": "stdin",
     "output_type": "stream",
     "text": [
      "Enter 1 for Rock, \n",
      " 2 for Paper, \n",
      " 3 for Scissors \n",
      " 4 for quit the game : 1\n"
     ]
    },
    {
     "name": "stdout",
     "output_type": "stream",
     "text": [
      "Computer enter 2\n",
      "User enter 1\n",
      "Computer Win\n",
      "\n",
      "Welcome to Rock Paper Scissors Game\n"
     ]
    },
    {
     "name": "stdin",
     "output_type": "stream",
     "text": [
      "Enter 1 for Rock, \n",
      " 2 for Paper, \n",
      " 3 for Scissors \n",
      " 4 for quit the game : 3\n"
     ]
    },
    {
     "name": "stdout",
     "output_type": "stream",
     "text": [
      "Computer enter 2\n",
      "User enter 3\n",
      "You Win\n",
      "\n",
      "Welcome to Rock Paper Scissors Game\n"
     ]
    },
    {
     "name": "stdin",
     "output_type": "stream",
     "text": [
      "Enter 1 for Rock, \n",
      " 2 for Paper, \n",
      " 3 for Scissors \n",
      " 4 for quit the game : 4\n"
     ]
    },
    {
     "name": "stdout",
     "output_type": "stream",
     "text": [
      "Exit the Game..\n"
     ]
    }
   ],
   "source": [
    "##  22\n",
    "\n",
    "import random\n",
    "while  True:  # While loop iterate the game until you don't want to quit\n",
    "    print(\"\\nWelcome to Rock Paper Scissors Game\")\n",
    "    comp=random.randint(1,3)\n",
    "    user=int(input(\"Enter 1 for Rock, \\n 2 for Paper, \\n 3 for Scissors \\n 4 for quit the game :\"))\n",
    "    if user>4:\n",
    "      print(\"Please Enter  correct optioon1,2,3,4\")\n",
    "      continue\n",
    "    if user==4:\n",
    "      print(\"Exit the Game..\")\n",
    "      break\n",
    "      \n",
    "    # Function for game result\n",
    "    def get_game(comp,user):\n",
    "      if (comp==user):\n",
    "        return \"It's Draw\"\n",
    "      elif (comp==1 and user==3) or (comp==2 and user==1 ) or (comp==3 and user==2):\n",
    "        return \"Computer Win\"\n",
    "      else:\n",
    "        return \"You Win\"\n",
    "  \n",
    "    result=get_game(comp,user)\n",
    "    print(\"Computer enter\",comp)\n",
    "    print(\"User enter\", user)\n",
    "    print(result)"
   ]
  },
  {
   "cell_type": "code",
   "execution_count": 33,
   "id": "309800b0-40c8-4f77-9515-56b21020cf28",
   "metadata": {},
   "outputs": [
    {
     "name": "stdin",
     "output_type": "stream",
     "text": [
      "Enter the length of the password (default is 12):  8\n"
     ]
    },
    {
     "name": "stdout",
     "output_type": "stream",
     "text": [
      "Generated Password: |Y^USl2l\n"
     ]
    }
   ],
   "source": [
    "##  23\n",
    "\n",
    "import string\n",
    "import secrets\n",
    "\n",
    "# Function to generate a random password\n",
    "def generate_password(length=12):\n",
    "    characters = string.ascii_letters + string.digits + string.punctuation\n",
    "    password = ''.join(secrets.choice(characters) for _ in range(length))\n",
    "    return password\n",
    "\n",
    "# Main function to take user input for password length\n",
    "def main():\n",
    "    try:\n",
    "        length = int(input(\"Enter the length of the password (default is 12): \"))\n",
    "        password = generate_password(length)\n",
    "        print(\"Generated Password:\", password)\n",
    "    except ValueError:\n",
    "        print(\"Invalid input. Please enter a valid password length.\")\n",
    "\n",
    "# Call the main function if the script is run\n",
    "if __name__ == \"__main__\":\n",
    "    main()"
   ]
  },
  {
   "cell_type": "code",
   "execution_count": 34,
   "id": "9252ff07-7117-4129-9fd9-e3c7c4f81c64",
   "metadata": {},
   "outputs": [
    {
     "name": "stdout",
     "output_type": "stream",
     "text": [
      "Welcome to the Guessing Game!\n",
      "Computer have selected a random number between 1 and 100.\n",
      "Can you guess it?\n"
     ]
    },
    {
     "name": "stdin",
     "output_type": "stream",
     "text": [
      "Enter your guess:  10\n"
     ]
    },
    {
     "name": "stdout",
     "output_type": "stream",
     "text": [
      "Too low! Try again.\n"
     ]
    },
    {
     "name": "stdin",
     "output_type": "stream",
     "text": [
      "Enter your guess:  40\n"
     ]
    },
    {
     "name": "stdout",
     "output_type": "stream",
     "text": [
      "Too low! Try again.\n"
     ]
    },
    {
     "name": "stdin",
     "output_type": "stream",
     "text": [
      "Enter your guess:  80\n"
     ]
    },
    {
     "name": "stdout",
     "output_type": "stream",
     "text": [
      "Too high! Try again.\n"
     ]
    },
    {
     "name": "stdin",
     "output_type": "stream",
     "text": [
      "Enter your guess:  70\n"
     ]
    },
    {
     "name": "stdout",
     "output_type": "stream",
     "text": [
      "Too high! Try again.\n"
     ]
    },
    {
     "name": "stdin",
     "output_type": "stream",
     "text": [
      "Enter your guess:  75\n"
     ]
    },
    {
     "name": "stdout",
     "output_type": "stream",
     "text": [
      "Too high! Try again.\n"
     ]
    },
    {
     "name": "stdin",
     "output_type": "stream",
     "text": [
      "Enter your guess:  60\n"
     ]
    },
    {
     "name": "stdout",
     "output_type": "stream",
     "text": [
      "Too high! Try again.\n"
     ]
    },
    {
     "name": "stdin",
     "output_type": "stream",
     "text": [
      "Enter your guess:  55\n"
     ]
    },
    {
     "name": "stdout",
     "output_type": "stream",
     "text": [
      "Too high! Try again.\n"
     ]
    },
    {
     "name": "stdin",
     "output_type": "stream",
     "text": [
      "Enter your guess:  48\n"
     ]
    },
    {
     "name": "stdout",
     "output_type": "stream",
     "text": [
      "Too low! Try again.\n"
     ]
    },
    {
     "name": "stdin",
     "output_type": "stream",
     "text": [
      "Enter your guess:  50\n"
     ]
    },
    {
     "name": "stdout",
     "output_type": "stream",
     "text": [
      "Too high! Try again.\n"
     ]
    },
    {
     "name": "stdin",
     "output_type": "stream",
     "text": [
      "Enter your guess:  49\n"
     ]
    },
    {
     "name": "stdout",
     "output_type": "stream",
     "text": [
      "Congratulations! You guessed the number in 10 attempts.\n"
     ]
    }
   ],
   "source": [
    "##  24\n",
    "\n",
    "# Making a guessing number game \n",
    "import random\n",
    "import time\n",
    "\n",
    "def guess_number():\n",
    "    computer_to_guess = random.randint(1, 100)\n",
    "    attempts = 0\n",
    "\n",
    "    print(\"Welcome to the Guessing Game!\")\n",
    "    time.sleep(1)\n",
    "    print(\"Computer have selected a random number between 1 and 100.\")\n",
    "    time.sleep(1)\n",
    "    print(\"Can you guess it?\")\n",
    "    time.sleep(1)\n",
    "\n",
    "    while True:\n",
    "        try:\n",
    "            player_guess = int(input(\"Enter your guess: \"))\n",
    "            attempts += 1\n",
    "\n",
    "            if player_guess < computer_to_guess:\n",
    "                print(\"Too low! Try again.\")\n",
    "            elif player_guess > computer_to_guess:\n",
    "                print(\"Too high! Try again.\")\n",
    "            else:\n",
    "                print(f\"Congratulations! You guessed the number in {attempts} attempts.\")\n",
    "                break\n",
    "        except ValueError:\n",
    "            print(\"Invalid input. Please enter a number.\")\n",
    "\n",
    "if __name__ == \"__main__\":\n",
    "    guess_number()"
   ]
  },
  {
   "cell_type": "code",
   "execution_count": 35,
   "id": "f032184a-1cf7-47a5-b704-41e4906602fc",
   "metadata": {},
   "outputs": [
    {
     "name": "stdout",
     "output_type": "stream",
     "text": [
      "Linear Equation to Solve: ax + b = 0\n"
     ]
    },
    {
     "name": "stdin",
     "output_type": "stream",
     "text": [
      "Enter the coefficient 'a':  1\n",
      "Enter the constant term 'b':  2\n"
     ]
    },
    {
     "name": "stdout",
     "output_type": "stream",
     "text": [
      "One solution: x = -2.0\n"
     ]
    }
   ],
   "source": [
    "##  25\n",
    "\n",
    "# Try to solve linear equation.\n",
    "def solve_linear_equation(a, b):\n",
    "    if a == 0:\n",
    "        if b == 0:\n",
    "            print(\"Infinite solutions: Every value of x is a solution.\")\n",
    "        else:\n",
    "            print(\"No solution: The equation is inconsistent.\")\n",
    "    else:\n",
    "        x = -b / a\n",
    "        print(f\"One solution: x = {x}\")\n",
    "\n",
    "if __name__ == \"__main__\":\n",
    "    print(\"Linear Equation to Solve: ax + b = 0\")\n",
    "    try:\n",
    "        a = float(input(\"Enter the coefficient 'a': \"))\n",
    "        b = float(input(\"Enter the constant term 'b': \"))\n",
    "        solve_linear_equation(a, b)\n",
    "    except ValueError:\n",
    "        print(\"Invalid input. Please enter numeric values for 'a' and 'b'.\")"
   ]
  },
  {
   "cell_type": "code",
   "execution_count": 37,
   "id": "3e0c7be7-7e21-4a99-9afb-23de730017db",
   "metadata": {},
   "outputs": [
    {
     "name": "stdout",
     "output_type": "stream",
     "text": [
      "Welcome , to the Quiz competion\n",
      "1. What is capital city of India?\n",
      " a. Lucknow\t b. Kolkata\n",
      " c.Mumbai\t d. Delhi\n"
     ]
    },
    {
     "name": "stdin",
     "output_type": "stream",
     "text": [
      "Enter your answer:  d\n"
     ]
    },
    {
     "name": "stdout",
     "output_type": "stream",
     "text": [
      "Correct Answer score is 1\n",
      "2. What is the capital of France?\n",
      " a. London\t b. Paris\n",
      " c. Berlin\t d. Madrid\n"
     ]
    },
    {
     "name": "stdin",
     "output_type": "stream",
     "text": [
      "Enter your answer:  b\n"
     ]
    },
    {
     "name": "stdout",
     "output_type": "stream",
     "text": [
      "Correct Answer score is  2\n",
      "3. Which planet is known as the Red Planet?\n",
      " a. Earth\t b. Mars\n",
      " c. Jupiter\t d. Venus\n"
     ]
    },
    {
     "name": "stdin",
     "output_type": "stream",
     "text": [
      "Enter your answer:  b\n"
     ]
    },
    {
     "name": "stdout",
     "output_type": "stream",
     "text": [
      "Correct Answer score is 3\n",
      "4. What is the chemical symbol for water?\n",
      " a. H2O\t b. CO2\n",
      " c. O2\t d. CH4\n"
     ]
    },
    {
     "name": "stdin",
     "output_type": "stream",
     "text": [
      "Enter your answer:  a\n"
     ]
    },
    {
     "name": "stdout",
     "output_type": "stream",
     "text": [
      "Correct Answer score is 4\n",
      "5. Which planet is known as the blue Planet?\n",
      " a. Earth\t b. Mars\n",
      " c. Neptune\t d. Venus\n"
     ]
    },
    {
     "name": "stdin",
     "output_type": "stream",
     "text": [
      "Enter your answer:  d\n"
     ]
    },
    {
     "name": "stdout",
     "output_type": "stream",
     "text": [
      "Wrong Answer\n",
      "Thank you visit again for quiz competetion\n"
     ]
    }
   ],
   "source": [
    "##  26\n",
    "\n",
    "import time\n",
    "def quiz_game():\n",
    "\n",
    "  print(\"Welcome , to the Quiz competion\")\n",
    "  time.sleep(1)\n",
    " \n",
    "def check_answer():\n",
    "  score=0\n",
    "  print(\"1. What is capital city of India?\")\n",
    "  print(\" a. Lucknow\\t b. Kolkata\\n c.Mumbai\\t d. Delhi\")\n",
    "  \n",
    "  answer = input(\"Enter your answer: \")\n",
    "  if answer == \"d\":\n",
    "    score+=1\n",
    "    print(\"Correct Answer score is\",score)\n",
    "    time.sleep(2)\n",
    "  else:\n",
    "    print(\"Wrong Answer\")\n",
    "   \n",
    "      \n",
    "  print(\"2. What is the capital of France?\") \n",
    "  print(\" a. London\\t b. Paris\\n c. Berlin\\t d. Madrid\")\n",
    "    \n",
    "  answer = input(\"Enter your answer: \")\n",
    "  if answer == \"b\":\n",
    "    score+=1\n",
    "    print(\"Correct Answer score is \",score)\n",
    "    time.sleep(2)\n",
    "  else:\n",
    "    print(\"Wrong Answer\")\n",
    "      \n",
    "    \n",
    "  print(\"3. Which planet is known as the Red Planet?\")\n",
    "  print(\" a. Earth\\t b. Mars\\n c. Jupiter\\t d. Venus\")\n",
    "    \n",
    "  answer = input(\"Enter your answer: \")\n",
    "  if answer == \"b\":\n",
    "    score+=1\n",
    "    print(\"Correct Answer score is\",score)\n",
    "    time.sleep(2)\n",
    "  else:\n",
    "    print(\"Wrong Answer\")\n",
    "      \n",
    "    \n",
    "      \n",
    "  print(\"4. What is the chemical symbol for water?\")\n",
    "  print(\" a. H2O\\t b. CO2\\n c. O2\\t d. CH4\")\n",
    "    \n",
    "  answer = input(\"Enter your answer: \")\n",
    "  if answer == \"a\":\n",
    "    score+=1\n",
    "    print(\"Correct Answer score is\",score)\n",
    "    time.sleep(2)\n",
    "  else:\n",
    "    print(\"Wrong Answer\")\n",
    "      \n",
    "    \n",
    "  print(\"5. Which planet is known as the blue Planet?\")\n",
    "  print(\" a. Earth\\t b. Mars\\n c. Neptune\\t d. Venus\") \n",
    "    \n",
    "  answer = input(\"Enter your answer: \")\n",
    "  if answer == \"c\":\n",
    "    score+=1\n",
    "    print(\"Correct Answer score is\",score)\n",
    "    time.sleep(2)\n",
    "  else:\n",
    "    print(\"Wrong Answer\")\n",
    "\n",
    "  print(\"Thank you visit again for quiz competetion\")\n",
    "\n",
    "quiz_game()\n",
    "check_answer()"
   ]
  },
  {
   "cell_type": "code",
   "execution_count": 39,
   "id": "39e840f2-551c-41c7-8ab2-b7af2b0aa2cc",
   "metadata": {},
   "outputs": [
    {
     "name": "stdout",
     "output_type": "stream",
     "text": [
      "2023 is not a prime number year\n"
     ]
    }
   ],
   "source": [
    "##  27\n",
    "\n",
    "year=2023\n",
    "#Function to check year is prime number or not.\n",
    "def is_prime_year(year):\n",
    "    if year <= 1:\n",
    "        return False\n",
    "    for i in range(2, int(year ** 0.5) + 1):\n",
    "        if year % i == 0:\n",
    "            return False\n",
    "    return True\n",
    "  \n",
    "if __name__ == \"__main__\":\n",
    "  \n",
    "    if is_prime_year(year):\n",
    "        print(year, \"is a prime number year\")\n",
    "    else:\n",
    "        print(year, \"is not a prime number year\")"
   ]
  },
  {
   "cell_type": "code",
   "execution_count": 40,
   "id": "4e330ea4-55c2-457e-bf97-80e8dc564ce1",
   "metadata": {},
   "outputs": [
    {
     "name": "stdout",
     "output_type": "stream",
     "text": [
      "(413, 560, 2322)\n"
     ]
    }
   ],
   "source": [
    "##  28\n",
    "\n",
    "a,b,c=2322,413,560\n",
    "# Function to check and write the three number in ascending order \n",
    "def sorts_number(a,b,c):\n",
    "  # Checking the condition\n",
    "  if a>b and b>c:\n",
    "    return c,b,a\n",
    "    \n",
    "  elif a>c and c>b:\n",
    "    return b,c,a\n",
    "  elif b>a and a>c:\n",
    "    return c,a,b\n",
    "  elif b>c and c>a:\n",
    "    return a,c,b\n",
    "  elif c>a and a>b:\n",
    "    return b,a,c\n",
    "  elif c>b and b>a:\n",
    "    return a,b,c\n",
    "  else:\n",
    "    return c,b,a\n",
    "# call the function.\n",
    "print(sorts_number(a,b,c))"
   ]
  },
  {
   "cell_type": "code",
   "execution_count": 41,
   "id": "8e775d50-1ffc-4e5a-aad4-5050fb5f708f",
   "metadata": {},
   "outputs": [
    {
     "name": "stdout",
     "output_type": "stream",
     "text": [
      "The roots of quadratic equaton  [-0.56721943 -0.56721943 -0.56721943 -0.56721943]\n"
     ]
    }
   ],
   "source": [
    "#  29\n",
    "\n",
    "# Find the root of quadratic equation\n",
    "import numpy as np\n",
    "from scipy.optimize import root\n",
    "\n",
    "def quartic_roots(a, b, c, d, e):\n",
    "    def func(x):\n",
    "        return a*x**4 + b*x**3 + c*x**2 + d*x + e\n",
    "    \n",
    "    solution = root(func, [0, 0, 0, 0])\n",
    "    return solution.x\n",
    "  \n",
    "print(\"The roots of quadratic equaton \",quartic_roots(-2, 3, 1, 1, 1))"
   ]
  },
  {
   "cell_type": "code",
   "execution_count": 43,
   "id": "9e0e17dc-87b5-4011-8c61-584e2f9cd1d3",
   "metadata": {},
   "outputs": [
    {
     "name": "stdin",
     "output_type": "stream",
     "text": [
      "Enter your weight in kilograms:  74\n",
      "Enter your height in meters:  170\n"
     ]
    },
    {
     "name": "stdout",
     "output_type": "stream",
     "text": [
      "Your BMI is: Underweight\n"
     ]
    }
   ],
   "source": [
    "##  30\n",
    "\n",
    "# Function to find out body mass index and categorized the person\n",
    "def calculate_bmi(weight, height):\n",
    "    bmi = weight / (height ** 2)\n",
    "    \n",
    "    if bmi < 18.5:\n",
    "        return \"Underweight\"\n",
    "    elif bmi < 24.9:\n",
    "        return \"Normal weight\"\n",
    "    elif bmi < 29.9:\n",
    "        return \"Overweight\"\n",
    "    else:\n",
    "        return \"Obese\"\n",
    "\n",
    "weight = float(input(\"Enter your weight in kilograms: \"))\n",
    "height = float(input(\"Enter your height in meters: \"))\n",
    "\n",
    "print(\"Your BMI is:\", calculate_bmi(weight, height))"
   ]
  },
  {
   "cell_type": "markdown",
   "id": "cb0f2030-cd5a-4c18-b2a7-5600f5000ee7",
   "metadata": {},
   "source": [
    " CHALLENGE LEVEL "
   ]
  },
  {
   "cell_type": "code",
   "execution_count": 44,
   "id": "78597dc7-85f7-4fb3-8b7d-49d7e10ac1dc",
   "metadata": {},
   "outputs": [
    {
     "name": "stdin",
     "output_type": "stream",
     "text": [
      "Enter your password:  Abc@$#13ABCD\n"
     ]
    },
    {
     "name": "stdout",
     "output_type": "stream",
     "text": [
      "Password is valid!\n"
     ]
    }
   ],
   "source": [
    "##  31\n",
    "\n",
    "password = input(\"Enter your password: \")\n",
    "def is_valid_password(password):\n",
    "    # Minimum length is 8 characters\n",
    "    if len(password) < 8:\n",
    "        return False\n",
    "    \n",
    "    # Should contain at least one uppercase letter\n",
    "    if not any(char.isupper() for char in password):\n",
    "        return False\n",
    "    \n",
    "    # Should contain at least one lowercase letter\n",
    "    if not any(char.islower() for char in password):\n",
    "        return False\n",
    "    \n",
    "    # Should contain at least one digit\n",
    "    if not any(char.isdigit() for char in password):\n",
    "        return False\n",
    "    \n",
    "    # Should contain at least one special character\n",
    "    special_characters = \"!@#$%^&*(),.?\\\":{}|<>\"\n",
    "    if not any(char in special_characters for char in password):\n",
    "        return False\n",
    "    \n",
    "    return True\n",
    "\n",
    "\n",
    "if is_valid_password(password):\n",
    "  print(\"Password is valid!\")\n",
    "else:\n",
    "  print(\"Invalid password. Please ensure your password meets the complexity requirements.\")"
   ]
  },
  {
   "cell_type": "code",
   "execution_count": 1,
   "id": "b3f8c02e-775e-458e-976e-dd81eadfb887",
   "metadata": {},
   "outputs": [
    {
     "name": "stdout",
     "output_type": "stream",
     "text": [
      "Matrix Addition and Subtraction Program\n",
      "Enter Matrix A:\n"
     ]
    },
    {
     "name": "stdin",
     "output_type": "stream",
     "text": [
      "Enter the number of rows:  3\n",
      "Enter the number of columns:  3\n",
      "Enter element at position 1,1:  4\n",
      "Enter element at position 1,2:  5\n",
      "Enter element at position 1,3:  6\n",
      "Enter element at position 2,1:  1\n",
      "Enter element at position 2,2:  2\n",
      "Enter element at position 2,3:  3\n",
      "Enter element at position 3,1:  4\n",
      "Enter element at position 3,2:  7\n",
      "Enter element at position 3,3:  8\n"
     ]
    },
    {
     "name": "stdout",
     "output_type": "stream",
     "text": [
      "\n",
      "Enter Matrix B:\n"
     ]
    },
    {
     "name": "stdin",
     "output_type": "stream",
     "text": [
      "Enter the number of rows:  3\n",
      "Enter the number of columns:  3\n",
      "Enter element at position 1,1:  8\n",
      "Enter element at position 1,2:  9\n",
      "Enter element at position 1,3:  7\n",
      "Enter element at position 2,1:  4\n",
      "Enter element at position 2,2:  5\n",
      "Enter element at position 2,3:  6\n",
      "Enter element at position 3,1:  1\n",
      "Enter element at position 3,2:  2\n",
      "Enter element at position 3,3:  3\n"
     ]
    },
    {
     "name": "stdout",
     "output_type": "stream",
     "text": [
      "\n",
      "Matrix A + Matrix B:\n",
      "[12, 14, 13]\n",
      "[5, 7, 9]\n",
      "[5, 9, 11]\n",
      "\n",
      "Matrix A - Matrix B:\n",
      "[-4, -4, -1]\n",
      "[-3, -3, -3]\n",
      "[3, 5, 5]\n"
     ]
    }
   ],
   "source": [
    "##  32\n",
    "\n",
    "#Function to add matrix\n",
    "def matrix_addition(matrix_a, matrix_b):\n",
    "    result = []\n",
    "    for i in range(len(matrix_a)): # Iterate the data for row\n",
    "        row = []\n",
    "        for j in range(len(matrix_a[0])): # Iterate the data for column\n",
    "            row.append(matrix_a[i][j] + matrix_b[i][j])\n",
    "        result.append(row)\n",
    "    return result\n",
    "# Function to subtract matrix\n",
    "def matrix_subtraction(matrix_a, matrix_b):\n",
    "    result = []\n",
    "    for i in range(len(matrix_a)): # Iterate the data for row\n",
    "        row = []\n",
    "        for j in range(len(matrix_a[0])):  # Iterate the data for column\n",
    "            row.append(matrix_a[i][j] - matrix_b[i][j])\n",
    "        result.append(row)\n",
    "    return result\n",
    "\n",
    "def input_matrix():\n",
    "    rows = int(input(\"Enter the number of rows: \"))\n",
    "    cols = int(input(\"Enter the number of columns: \"))\n",
    "    matrix = []\n",
    "    for i in range(rows): # Iterate the data for row\n",
    "        row = []\n",
    "        for j in range(cols):  # Iterate the data for column\n",
    "            element = int(input(f\"Enter element at position {i+1},{j+1}: \"))\n",
    "            row.append(element)\n",
    "        matrix.append(row)\n",
    "    return matrix\n",
    "\n",
    "def main():\n",
    "    print(\"Matrix Addition and Subtraction Program\")\n",
    "    print(\"Enter Matrix A:\")\n",
    "    matrix_a = input_matrix()\n",
    "\n",
    "    print(\"\\nEnter Matrix B:\")\n",
    "    matrix_b = input_matrix()\n",
    "\n",
    "    if len(matrix_a) == len(matrix_b) and len(matrix_a[0]) == len(matrix_b[0]):\n",
    "        addition_result = matrix_addition(matrix_a, matrix_b)\n",
    "        subtraction_result = matrix_subtraction(matrix_a, matrix_b)\n",
    "\n",
    "        print(\"\\nMatrix A + Matrix B:\")\n",
    "        for row in addition_result:\n",
    "            print(row)\n",
    "\n",
    "        print(\"\\nMatrix A - Matrix B:\")\n",
    "        for row in subtraction_result:\n",
    "            print(row)\n",
    "    else:\n",
    "        print(\"Matrix addition and subtraction are not possible. Matrices must have the same dimensions.\")\n",
    "\n",
    "\n",
    "# Call the main function.\n",
    "if __name__ == \"__main__\":\n",
    "    main()"
   ]
  },
  {
   "cell_type": "code",
   "execution_count": 2,
   "id": "43b48059-de89-4ff4-8052-f78223a32e32",
   "metadata": {},
   "outputs": [
    {
     "name": "stdout",
     "output_type": "stream",
     "text": [
      "The GCD of 24 and 30 is  6\n"
     ]
    }
   ],
   "source": [
    "##  33 \n",
    "\n",
    "# Find GCD of two number\n",
    "num1=24\n",
    "num2=30\n",
    "\n",
    "def gcd_euclidean(a, b):\n",
    "    while b != 0:\n",
    "        a, b = b, a % b\n",
    "    return a\n",
    "\n",
    "\n",
    "# Call the function\n",
    "gcd=gcd_euclidean(num1,num2)\n",
    "print(f\"The GCD of {num1} and {num2} is \",gcd)"
   ]
  },
  {
   "cell_type": "code",
   "execution_count": 5,
   "id": "464133ee-2bed-48cc-b05f-c29ad0f740c1",
   "metadata": {},
   "outputs": [
    {
     "name": "stdout",
     "output_type": "stream",
     "text": [
      "Matrix Multiplication Program\n",
      "Enter Matrix A:\n"
     ]
    },
    {
     "name": "stdin",
     "output_type": "stream",
     "text": [
      "Enter the number of rows:  2\n",
      "Enter the number of columns:  2\n",
      "Enter element at position 1,1:  4\n",
      "Enter element at position 1,2:  5\n",
      "Enter element at position 2,1:  6\n",
      "Enter element at position 2,2:  7\n"
     ]
    },
    {
     "name": "stdout",
     "output_type": "stream",
     "text": [
      "\n",
      "Enter Matrix B:\n"
     ]
    },
    {
     "name": "stdin",
     "output_type": "stream",
     "text": [
      "Enter the number of rows:  2\n",
      "Enter the number of columns:  2\n",
      "Enter element at position 1,1:  8\n",
      "Enter element at position 1,2:  9\n",
      "Enter element at position 2,1:  1\n",
      "Enter element at position 2,2:  3\n"
     ]
    },
    {
     "name": "stdout",
     "output_type": "stream",
     "text": [
      "\n",
      "Result of Matrix Multiplication:\n",
      "[37, 51]\n",
      "[55, 75]\n"
     ]
    }
   ],
   "source": [
    "##  34\n",
    "\n",
    "#  Program of multiplication of matrix\n",
    "def matrix_multiplication(matrix_a, matrix_b):\n",
    "    rows_a, cols_a = len(matrix_a), len(matrix_a[0])\n",
    "    rows_b, cols_b = len(matrix_b), len(matrix_b[0])\n",
    "\n",
    "    # Check if matrices can be multiplied\n",
    "    if cols_a != rows_b:\n",
    "        print(\"Matrices cannot be multiplied if number of columns of Matrix A is not equal to number of rows of Matrix B.\")\n",
    "        return None\n",
    "\n",
    "    result = [[0 for _ in range(cols_b)] for _ in range(rows_a)]\n",
    "\n",
    "    for i in range(rows_a):\n",
    "        for j in range(cols_b):\n",
    "            for k in range(cols_a):  # or rows_b, since cols_a == rows_b\n",
    "                result[i][j] += matrix_a[i][k] * matrix_b[k][j]\n",
    "\n",
    "    return result\n",
    "\n",
    "def input_matrix():\n",
    "    rows = int(input(\"Enter the number of rows: \"))\n",
    "    cols = int(input(\"Enter the number of columns: \"))\n",
    "    matrix = []\n",
    "    for i in range(rows):\n",
    "        row = []\n",
    "        for j in range(cols):\n",
    "            element = int(input(f\"Enter element at position {i+1},{j+1}: \"))\n",
    "            row.append(element)\n",
    "        matrix.append(row)\n",
    "    return matrix\n",
    "\n",
    "def main():\n",
    "    print(\"Matrix Multiplication Program\")\n",
    "    print(\"Enter Matrix A:\")\n",
    "    matrix_a = input_matrix()\n",
    "\n",
    "    print(\"\\nEnter Matrix B:\")\n",
    "    matrix_b = input_matrix()\n",
    "\n",
    "    result = matrix_multiplication(matrix_a, matrix_b)\n",
    "\n",
    "    if result:\n",
    "        print(\"\\nResult of Matrix Multiplication:\")\n",
    "        for row in result:\n",
    "            print(row)\n",
    "\n",
    "if __name__ == \"__main__\":\n",
    "    main()"
   ]
  },
  {
   "cell_type": "code",
   "execution_count": 6,
   "id": "e1d29fa5-8d61-4289-b491-4ee9bbe09cf4",
   "metadata": {},
   "outputs": [
    {
     "name": "stdout",
     "output_type": "stream",
     "text": [
      "Welcome to Tic-Tac-Toe!\n",
      "  |   |  \n",
      "---------\n",
      "  |   |  \n",
      "---------\n",
      "  |   |  \n",
      "---------\n"
     ]
    },
    {
     "name": "stdin",
     "output_type": "stream",
     "text": [
      "Enter your move (row and column):  2 2\n"
     ]
    },
    {
     "name": "stdout",
     "output_type": "stream",
     "text": [
      "  |   |  \n",
      "---------\n",
      "  |   |  \n",
      "---------\n",
      "  |   | X\n",
      "---------\n",
      "Computer's move:\n",
      "  |   |  \n",
      "---------\n",
      "  | O |  \n",
      "---------\n",
      "  |   | X\n",
      "---------\n"
     ]
    },
    {
     "name": "stdin",
     "output_type": "stream",
     "text": [
      "Enter your move (row and column):  0 0\n"
     ]
    },
    {
     "name": "stdout",
     "output_type": "stream",
     "text": [
      "X |   |  \n",
      "---------\n",
      "  | O |  \n",
      "---------\n",
      "  |   | X\n",
      "---------\n",
      "Computer's move:\n",
      "X |   |  \n",
      "---------\n",
      "  | O | O\n",
      "---------\n",
      "  |   | X\n",
      "---------\n"
     ]
    },
    {
     "name": "stdin",
     "output_type": "stream",
     "text": [
      "Enter your move (row and column):  1 0\n"
     ]
    },
    {
     "name": "stdout",
     "output_type": "stream",
     "text": [
      "X |   |  \n",
      "---------\n",
      "X | O | O\n",
      "---------\n",
      "  |   | X\n",
      "---------\n",
      "Computer's move:\n",
      "X | O |  \n",
      "---------\n",
      "X | O | O\n",
      "---------\n",
      "  |   | X\n",
      "---------\n"
     ]
    },
    {
     "name": "stdin",
     "output_type": "stream",
     "text": [
      "Enter your move (row and column):  2 0\n"
     ]
    },
    {
     "name": "stdout",
     "output_type": "stream",
     "text": [
      "X | O |  \n",
      "---------\n",
      "X | O | O\n",
      "---------\n",
      "X |   | X\n",
      "---------\n",
      "Player X wins! Congratulations!\n"
     ]
    }
   ],
   "source": [
    "##  35\n",
    "\n",
    "# Program To built tic tac toe game\n",
    "import random\n",
    "\n",
    "def print_board(board):\n",
    "    for row in board:\n",
    "        print(\" | \".join(row))\n",
    "        print(\"-\" * 9)\n",
    "\n",
    "def check_winner(board, player):\n",
    "    # Check rows, columns, and diagonals for a win\n",
    "    for line in board:\n",
    "        if all(cell == player for cell in line):\n",
    "            return True\n",
    "    for col in range(3):\n",
    "        if all(board[row][col] == player for row in range(3)):\n",
    "            return True\n",
    "    if all(board[i][i] == player for i in range(3)) or \\\n",
    "       all(board[i][2 - i] == player for i in range(3)):\n",
    "        return True\n",
    "    return False\n",
    "\n",
    "def computer_move(board):\n",
    "    empty_cells = [(i, j) for i in range(3) for j in range(3) if board[i][j] == \" \"]\n",
    "    return random.choice(empty_cells)\n",
    "\n",
    "def main():\n",
    "    print(\"Welcome to Tic-Tac-Toe!\")\n",
    "    board = [[\" \" for _ in range(3)] for _ in range(3)]\n",
    "    player = \"X\"\n",
    "    computer = \"O\"\n",
    "\n",
    "    while True:\n",
    "        print_board(board)\n",
    "\n",
    "        if player == \"X\":\n",
    "            row, col = map(int, input(\"Enter your move (row and column): \").split())\n",
    "        else:\n",
    "            print(\"Computer's move:\")\n",
    "            row, col = computer_move(board)\n",
    "\n",
    "        if board[row][col] == \" \":\n",
    "            board[row][col] = player\n",
    "        else:\n",
    "            print(\"Invalid move. Try again.\")\n",
    "            continue\n",
    "\n",
    "        if check_winner(board, player):\n",
    "            print_board(board)\n",
    "            print(f\"Player {player} wins! Congratulations!\")\n",
    "            break\n",
    "\n",
    "        if all(cell != \" \" for row in board for cell in row):\n",
    "            print_board(board)\n",
    "            print(\"It's a draw!\")\n",
    "            break\n",
    "\n",
    "        player = \"O\" if player == \"X\" else \"X\"\n",
    "\n",
    "if __name__ == \"__main__\":\n",
    "    main()"
   ]
  },
  {
   "cell_type": "code",
   "execution_count": 7,
   "id": "3ae7d2e2-8b01-4efa-a0a9-b000b5b64a59",
   "metadata": {},
   "outputs": [
    {
     "name": "stdin",
     "output_type": "stream",
     "text": [
      "Enter the number of Fibonacci terms you want to generate:  10\n"
     ]
    },
    {
     "name": "stdout",
     "output_type": "stream",
     "text": [
      "Fibonacci Sequence up to 10 terms:\n",
      "[0, 1, 1, 2, 3, 5, 8, 13, 21, 34]\n"
     ]
    }
   ],
   "source": [
    "##  36\n",
    "\n",
    "# Prgram to print Fibonacci sequence\n",
    "def generate_fibonacci(n):\n",
    "    fibonacci_sequence = []\n",
    "    a, b = 0, 1\n",
    "    while len(fibonacci_sequence) < n:\n",
    "        fibonacci_sequence.append(a)\n",
    "        a, b = b, a + b\n",
    "    return fibonacci_sequence\n",
    "\n",
    "# Take user input for the number of terms\n",
    "try:\n",
    "    n = int(input(\"Enter the number of Fibonacci terms you want to generate: \"))\n",
    "    if n <= 0:\n",
    "        print(\"Please enter a positive integer.\")\n",
    "    else:\n",
    "        fibonacci_numbers = generate_fibonacci(n)\n",
    "        print(\"Fibonacci Sequence up to {} terms:\".format(n))\n",
    "        print(fibonacci_numbers)\n",
    "except ValueError:\n",
    "    print(\"Invalid input. Please enter a valid integer.\")"
   ]
  },
  {
   "cell_type": "code",
   "execution_count": 8,
   "id": "86a02f15-13cb-4a8e-aede-5e4c6620073d",
   "metadata": {},
   "outputs": [
    {
     "name": "stdin",
     "output_type": "stream",
     "text": [
      "Enter a number of a Fibonacci terms you want to generate :  10\n"
     ]
    },
    {
     "name": "stdout",
     "output_type": "stream",
     "text": [
      "The fibonacci series of 10th term is 55:\n"
     ]
    }
   ],
   "source": [
    "##  37\n",
    "\n",
    "# Program to print Fibonacci term at the the given number\n",
    "num = int(input(\"Enter a number of a Fibonacci terms you want to generate : \"))\n",
    "\n",
    "# Function to generate the fibonacci series\n",
    "def fibonacci(n):\n",
    "    if n == 0:\n",
    "        return 0\n",
    "    elif n == 1:\n",
    "        return 1\n",
    "    elif n>=2:\n",
    "        return fibonacci(n-1) + fibonacci(n-2)\n",
    "    else:\n",
    "        print(f\"{n} is not a valid input\")\n",
    "\n",
    "print(f\"The fibonacci series of {num}th term is {fibonacci(num)}:\")"
   ]
  },
  {
   "cell_type": "code",
   "execution_count": 11,
   "id": "5af41634-2288-4f99-b7a1-c20db9f56b31",
   "metadata": {},
   "outputs": [
    {
     "name": "stdin",
     "output_type": "stream",
     "text": [
      "Enter the year:  2023\n",
      "Enter the month (1-12):  10\n"
     ]
    },
    {
     "name": "stdout",
     "output_type": "stream",
     "text": [
      "Calendar for 10/2023:\n",
      "    October 2023\n",
      "Mo Tu We Th Fr Sa Su\n",
      "                   1\n",
      " 2  3  4  5  6  7  8\n",
      " 9 10 11 12 13 14 15\n",
      "16 17 18 19 20 21 22\n",
      "23 24 25 26 27 28 29\n",
      "30 31\n",
      "\n"
     ]
    }
   ],
   "source": [
    "##  38\n",
    "\n",
    "import calendar\n",
    "\n",
    "# Take user input for the year and month\n",
    "year = int(input(\"Enter the year: \"))\n",
    "month = int(input(\"Enter the month (1-12): \"))\n",
    "\n",
    "# Validate input\n",
    "if month < 1 or month > 12:\n",
    "    print(\"Invalid month. Please enter a number between 1 and 12.\")\n",
    "else:\n",
    "    # Generate and print the calendar\n",
    "    cal = calendar.month(year, month)\n",
    "    print(\"Calendar for {}/{}:\".format(month, year))\n",
    "    print(cal)"
   ]
  },
  {
   "cell_type": "code",
   "execution_count": 13,
   "id": "5ca49613-6383-4e1f-956e-e659e26b5996",
   "metadata": {},
   "outputs": [
    {
     "name": "stdin",
     "output_type": "stream",
     "text": [
      "Do you want to play a game of Blackjack? Type 'y' or 'n':  y\n"
     ]
    },
    {
     "name": "stdout",
     "output_type": "stream",
     "text": [
      "Welcome to Blackjack!\n",
      "   Your cards: [5, 4], current score: 9\n",
      "   Computer's first card: 10\n"
     ]
    },
    {
     "name": "stdin",
     "output_type": "stream",
     "text": [
      "Type 'y' to get another card, or 'n' to pass:  y\n"
     ]
    },
    {
     "name": "stdout",
     "output_type": "stream",
     "text": [
      "   Your cards: [5, 4, 4], current score: 13\n",
      "   Computer's first card: 10\n"
     ]
    },
    {
     "name": "stdin",
     "output_type": "stream",
     "text": [
      "Type 'y' to get another card, or 'n' to pass:  n\n"
     ]
    },
    {
     "name": "stdout",
     "output_type": "stream",
     "text": [
      "   Your final hand: [5, 4, 4], final score: 13\n",
      "   Computer's final hand: [10], final score: 10\n",
      "You win!\n"
     ]
    },
    {
     "name": "stdin",
     "output_type": "stream",
     "text": [
      "Do you want to play a game of Blackjack? Type 'y' or 'n':  n\n"
     ]
    }
   ],
   "source": [
    "##  39\n",
    "\n",
    "# program to built black jack game\n",
    "import random\n",
    "\n",
    "def deal_card():\n",
    "    \"\"\"Return a random card from the deck.\"\"\"\n",
    "    cards = [11, 2, 3, 4, 5, 6, 7, 8, 9, 10, 10, 10, 10]\n",
    "    return random.choice(cards)\n",
    "\n",
    "def calculate_score(cards):\n",
    "    \"\"\"Take a list of cards and return the score calculated from the cards.\"\"\"\n",
    "    if sum(cards) == 21 and len(cards) == 2:\n",
    "        return 0  # Blackjack\n",
    "    if 11 in cards and sum(cards) > 21:\n",
    "        cards.remove(11)\n",
    "        cards.append(1)  # Ace can be 1 if the total is over 21\n",
    "    return sum(cards)\n",
    "\n",
    "def play_game():\n",
    "    print(\"Welcome to Blackjack!\")\n",
    "\n",
    "    user_cards = [deal_card(), deal_card()]\n",
    "    computer_cards = [deal_card()]\n",
    "\n",
    "    def game_over():\n",
    "        print(f\"   Your final hand: {user_cards}, final score: {calculate_score(user_cards)}\")\n",
    "        print(f\"   Computer's final hand: {computer_cards}, final score: {calculate_score(computer_cards)}\")\n",
    "        if calculate_score(user_cards) > 21:\n",
    "            return \"You went over. You lose!\"\n",
    "        elif calculate_score(computer_cards) > 21:\n",
    "            return \"Computer went over. You win!\"\n",
    "        elif calculate_score(computer_cards) == calculate_score(user_cards) == 21:\n",
    "            return \"Draw! Blackjack!\"\n",
    "        elif calculate_score(computer_cards) == 21:\n",
    "            return \"Computer has Blackjack. You lose!\"\n",
    "        elif calculate_score(user_cards) == 21:\n",
    "            return \"You have Blackjack. You win!\"\n",
    "        elif calculate_score(computer_cards) > calculate_score(user_cards):\n",
    "            return \"Computer wins!\"\n",
    "        else:\n",
    "            return \"You win!\"\n",
    "\n",
    "    while True:\n",
    "        user_score = calculate_score(user_cards)\n",
    "        computer_score = calculate_score(computer_cards)\n",
    "        print(f\"   Your cards: {user_cards}, current score: {user_score}\")\n",
    "        print(f\"   Computer's first card: {computer_cards[0]}\")\n",
    "\n",
    "        if user_score == 0 or computer_score == 0 or input(\"Type 'y' to get another card, or 'n' to pass: \") == 'n':\n",
    "            print(game_over())\n",
    "            break\n",
    "        else:\n",
    "            user_cards.append(deal_card())\n",
    "\n",
    "while input(\"Do you want to play a game of Blackjack? Type 'y' or 'n': \") == 'y':\n",
    "    play_game()"
   ]
  },
  {
   "cell_type": "code",
   "execution_count": 14,
   "id": "ecdbdca4-2367-4150-a5ed-4e70edf9b344",
   "metadata": {},
   "outputs": [
    {
     "name": "stdin",
     "output_type": "stream",
     "text": [
      "Enter a number to find its prime factors:  47\n"
     ]
    },
    {
     "name": "stdout",
     "output_type": "stream",
     "text": [
      "Prime factors of 47 are: [47]\n"
     ]
    }
   ],
   "source": [
    "##  40\n",
    "\n",
    "# To print prime factor of number.\n",
    "def prime_factors(n):\n",
    "    factors = []\n",
    "    divisor = 2\n",
    "    \n",
    "    while n > 1:\n",
    "        while n % divisor == 0:\n",
    "            factors.append(divisor)\n",
    "            n //= divisor\n",
    "        divisor += 1\n",
    "    \n",
    "    return factors\n",
    "\n",
    "# Take user input for the number\n",
    "try:\n",
    "    number = int(input(\"Enter a number to find its prime factors: \"))\n",
    "    if number <= 0:\n",
    "        print(\"Please enter a positive integer.\")\n",
    "    else:\n",
    "        result = prime_factors(number)\n",
    "        print(\"Prime factors of {} are: {}\".format(number, result))\n",
    "except ValueError:\n",
    "    print(\"Invalid input. Please enter a valid integer.\")"
   ]
  },
  {
   "cell_type": "code",
   "execution_count": null,
   "id": "584eaabe-adfe-4130-b5bf-abb84a784f05",
   "metadata": {},
   "outputs": [],
   "source": []
  }
 ],
 "metadata": {
  "kernelspec": {
   "display_name": "Python 3 (ipykernel)",
   "language": "python",
   "name": "python3"
  },
  "language_info": {
   "codemirror_mode": {
    "name": "ipython",
    "version": 3
   },
   "file_extension": ".py",
   "mimetype": "text/x-python",
   "name": "python",
   "nbconvert_exporter": "python",
   "pygments_lexer": "ipython3",
   "version": "3.10.8"
  }
 },
 "nbformat": 4,
 "nbformat_minor": 5
}
